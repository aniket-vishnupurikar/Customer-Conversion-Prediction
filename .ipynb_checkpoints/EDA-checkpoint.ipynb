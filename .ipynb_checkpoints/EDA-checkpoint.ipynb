{
 "cells": [
  {
   "cell_type": "code",
   "execution_count": 158,
   "id": "3f6b45cb",
   "metadata": {},
   "outputs": [],
   "source": [
    "import numpy as np\n",
    "import pandas as pd\n",
    "import matplotlib.pyplot as plt\n",
    "import seaborn as sns\n",
    "%matplotlib inline"
   ]
  },
  {
   "cell_type": "code",
   "execution_count": 159,
   "id": "329f7ff3",
   "metadata": {},
   "outputs": [],
   "source": [
    "df = pd.read_csv(\"train.csv\")"
   ]
  },
  {
   "cell_type": "code",
   "execution_count": 160,
   "id": "2f2e17b4",
   "metadata": {},
   "outputs": [
    {
     "data": {
      "text/html": [
       "<div>\n",
       "<style scoped>\n",
       "    .dataframe tbody tr th:only-of-type {\n",
       "        vertical-align: middle;\n",
       "    }\n",
       "\n",
       "    .dataframe tbody tr th {\n",
       "        vertical-align: top;\n",
       "    }\n",
       "\n",
       "    .dataframe thead th {\n",
       "        text-align: right;\n",
       "    }\n",
       "</style>\n",
       "<table border=\"1\" class=\"dataframe\">\n",
       "  <thead>\n",
       "    <tr style=\"text-align: right;\">\n",
       "      <th></th>\n",
       "      <th>age</th>\n",
       "      <th>job</th>\n",
       "      <th>marital</th>\n",
       "      <th>education_qual</th>\n",
       "      <th>call_type</th>\n",
       "      <th>day</th>\n",
       "      <th>mon</th>\n",
       "      <th>dur</th>\n",
       "      <th>num_calls</th>\n",
       "      <th>prev_outcome</th>\n",
       "      <th>y</th>\n",
       "    </tr>\n",
       "  </thead>\n",
       "  <tbody>\n",
       "    <tr>\n",
       "      <th>0</th>\n",
       "      <td>58</td>\n",
       "      <td>management</td>\n",
       "      <td>married</td>\n",
       "      <td>tertiary</td>\n",
       "      <td>unknown</td>\n",
       "      <td>5</td>\n",
       "      <td>may</td>\n",
       "      <td>261</td>\n",
       "      <td>1</td>\n",
       "      <td>unknown</td>\n",
       "      <td>no</td>\n",
       "    </tr>\n",
       "    <tr>\n",
       "      <th>1</th>\n",
       "      <td>44</td>\n",
       "      <td>technician</td>\n",
       "      <td>single</td>\n",
       "      <td>secondary</td>\n",
       "      <td>unknown</td>\n",
       "      <td>5</td>\n",
       "      <td>may</td>\n",
       "      <td>151</td>\n",
       "      <td>1</td>\n",
       "      <td>unknown</td>\n",
       "      <td>no</td>\n",
       "    </tr>\n",
       "    <tr>\n",
       "      <th>2</th>\n",
       "      <td>33</td>\n",
       "      <td>entrepreneur</td>\n",
       "      <td>married</td>\n",
       "      <td>secondary</td>\n",
       "      <td>unknown</td>\n",
       "      <td>5</td>\n",
       "      <td>may</td>\n",
       "      <td>76</td>\n",
       "      <td>1</td>\n",
       "      <td>unknown</td>\n",
       "      <td>no</td>\n",
       "    </tr>\n",
       "    <tr>\n",
       "      <th>3</th>\n",
       "      <td>47</td>\n",
       "      <td>blue-collar</td>\n",
       "      <td>married</td>\n",
       "      <td>unknown</td>\n",
       "      <td>unknown</td>\n",
       "      <td>5</td>\n",
       "      <td>may</td>\n",
       "      <td>92</td>\n",
       "      <td>1</td>\n",
       "      <td>unknown</td>\n",
       "      <td>no</td>\n",
       "    </tr>\n",
       "    <tr>\n",
       "      <th>4</th>\n",
       "      <td>33</td>\n",
       "      <td>unknown</td>\n",
       "      <td>single</td>\n",
       "      <td>unknown</td>\n",
       "      <td>unknown</td>\n",
       "      <td>5</td>\n",
       "      <td>may</td>\n",
       "      <td>198</td>\n",
       "      <td>1</td>\n",
       "      <td>unknown</td>\n",
       "      <td>no</td>\n",
       "    </tr>\n",
       "  </tbody>\n",
       "</table>\n",
       "</div>"
      ],
      "text/plain": [
       "   age           job  marital education_qual call_type  day  mon  dur  \\\n",
       "0   58    management  married       tertiary   unknown    5  may  261   \n",
       "1   44    technician   single      secondary   unknown    5  may  151   \n",
       "2   33  entrepreneur  married      secondary   unknown    5  may   76   \n",
       "3   47   blue-collar  married        unknown   unknown    5  may   92   \n",
       "4   33       unknown   single        unknown   unknown    5  may  198   \n",
       "\n",
       "   num_calls prev_outcome   y  \n",
       "0          1      unknown  no  \n",
       "1          1      unknown  no  \n",
       "2          1      unknown  no  \n",
       "3          1      unknown  no  \n",
       "4          1      unknown  no  "
      ]
     },
     "execution_count": 160,
     "metadata": {},
     "output_type": "execute_result"
    }
   ],
   "source": [
    "df.head()"
   ]
  },
  {
   "cell_type": "code",
   "execution_count": 161,
   "id": "2dd6f82a",
   "metadata": {},
   "outputs": [
    {
     "data": {
      "text/plain": [
       "age               0\n",
       "job               0\n",
       "marital           0\n",
       "education_qual    0\n",
       "call_type         0\n",
       "day               0\n",
       "mon               0\n",
       "dur               0\n",
       "num_calls         0\n",
       "prev_outcome      0\n",
       "y                 0\n",
       "dtype: int64"
      ]
     },
     "execution_count": 161,
     "metadata": {},
     "output_type": "execute_result"
    }
   ],
   "source": [
    "df.isnull().sum()"
   ]
  },
  {
   "cell_type": "code",
   "execution_count": 162,
   "id": "3d691b0d",
   "metadata": {},
   "outputs": [
    {
     "name": "stdout",
     "output_type": "stream",
     "text": [
      "<class 'pandas.core.frame.DataFrame'>\n",
      "RangeIndex: 45211 entries, 0 to 45210\n",
      "Data columns (total 11 columns):\n",
      " #   Column          Non-Null Count  Dtype \n",
      "---  ------          --------------  ----- \n",
      " 0   age             45211 non-null  int64 \n",
      " 1   job             45211 non-null  object\n",
      " 2   marital         45211 non-null  object\n",
      " 3   education_qual  45211 non-null  object\n",
      " 4   call_type       45211 non-null  object\n",
      " 5   day             45211 non-null  int64 \n",
      " 6   mon             45211 non-null  object\n",
      " 7   dur             45211 non-null  int64 \n",
      " 8   num_calls       45211 non-null  int64 \n",
      " 9   prev_outcome    45211 non-null  object\n",
      " 10  y               45211 non-null  object\n",
      "dtypes: int64(4), object(7)\n",
      "memory usage: 3.8+ MB\n"
     ]
    }
   ],
   "source": [
    "df.info()"
   ]
  },
  {
   "cell_type": "markdown",
   "id": "6d8443c8",
   "metadata": {},
   "source": [
    "# Univariate"
   ]
  },
  {
   "cell_type": "code",
   "execution_count": 163,
   "id": "e648cd3a",
   "metadata": {},
   "outputs": [
    {
     "name": "stderr",
     "output_type": "stream",
     "text": [
      "C:\\Users\\anike\\.conda\\envs\\tf_test\\lib\\site-packages\\seaborn\\distributions.py:2619: FutureWarning: `distplot` is a deprecated function and will be removed in a future version. Please adapt your code to use either `displot` (a figure-level function with similar flexibility) or `histplot` (an axes-level function for histograms).\n",
      "  warnings.warn(msg, FutureWarning)\n"
     ]
    },
    {
     "data": {
      "image/png": "[encoded data removed]",
      "text/plain": [
       "<Figure size 432x288 with 1 Axes>"
      ]
     },
     "metadata": {
      "needs_background": "light"
     },
     "output_type": "display_data"
    }
   ],
   "source": [
    "fig, ax = plt.subplots()\n",
    "sns.distplot(df[\"age\"], ax = ax)\n",
    "plt.show()"
   ]
  },
  {
   "cell_type": "code",
   "execution_count": 164,
   "id": "a59e3f59",
   "metadata": {},
   "outputs": [
    {
     "data": {
      "image/png": "[encoded data removed]",
      "text/plain": [
       "<Figure size 432x288 with 1 Axes>"
      ]
     },
     "metadata": {
      "needs_background": "light"
     },
     "output_type": "display_data"
    }
   ],
   "source": [
    "x = df[\"job\"].value_counts().index\n",
    "y = df[\"job\"].value_counts().values\n",
    "fig, ax = plt.subplots()\n",
    "sns.barplot(x = x, y = y, ax = ax)\n",
    "plt.xticks(rotation=45)\n",
    "plt.show()"
   ]
  },
  {
   "cell_type": "code",
   "execution_count": 165,
   "id": "3fd7336f",
   "metadata": {},
   "outputs": [
    {
     "data": {
      "image/png": "[encoded data removed]",
      "text/plain": [
       "<Figure size 432x288 with 1 Axes>"
      ]
     },
     "metadata": {
      "needs_background": "light"
     },
     "output_type": "display_data"
    }
   ],
   "source": [
    "x = df[\"marital\"].value_counts().index\n",
    "y = df[\"marital\"].value_counts().values\n",
    "fig, ax = plt.subplots()\n",
    "sns.barplot(x = x, y = y, ax = ax)\n",
    "plt.xticks(rotation=45)\n",
    "plt.show()"
   ]
  },
  {
   "cell_type": "code",
   "execution_count": 166,
   "id": "aa19d6a8",
   "metadata": {},
   "outputs": [
    {
     "data": {
      "image/png": "[encoded data removed]",
      "text/plain": [
       "<Figure size 432x288 with 1 Axes>"
      ]
     },
     "metadata": {
      "needs_background": "light"
     },
     "output_type": "display_data"
    }
   ],
   "source": [
    "x = df[\"education_qual\"].value_counts().index\n",
    "y = df[\"education_qual\"].value_counts().values\n",
    "fig, ax = plt.subplots()\n",
    "sns.barplot(x = x, y = y, ax = ax)\n",
    "plt.xticks(rotation=45)\n",
    "plt.show()"
   ]
  },
  {
   "cell_type": "code",
   "execution_count": 167,
   "id": "a2728b95",
   "metadata": {},
   "outputs": [
    {
     "data": {
      "image/png": "[encoded data removed]",
      "text/plain": [
       "<Figure size 432x288 with 1 Axes>"
      ]
     },
     "metadata": {
      "needs_background": "light"
     },
     "output_type": "display_data"
    }
   ],
   "source": [
    "x = df[\"call_type\"].value_counts().index\n",
    "y = df[\"call_type\"].value_counts().values\n",
    "fig, ax = plt.subplots()\n",
    "sns.barplot(x = x, y = y, ax = ax)\n",
    "plt.xticks(rotation=45)\n",
    "plt.show()"
   ]
  },
  {
   "cell_type": "code",
   "execution_count": 168,
   "id": "c5218536",
   "metadata": {},
   "outputs": [
    {
     "data": {
      "image/png": "[encoded data removed]",
      "text/plain": [
       "<Figure size 432x288 with 1 Axes>"
      ]
     },
     "metadata": {
      "needs_background": "light"
     },
     "output_type": "display_data"
    }
   ],
   "source": [
    "x = df[\"day\"].value_counts().index\n",
    "y = df[\"day\"].value_counts().values\n",
    "fig, ax = plt.subplots()\n",
    "sns.barplot(x = x, y = y, ax = ax)\n",
    "plt.xticks(rotation=45)\n",
    "plt.show()"
   ]
  },
  {
   "cell_type": "code",
   "execution_count": 169,
   "id": "ee3de5c4",
   "metadata": {},
   "outputs": [
    {
     "data": {
      "image/png": "[encoded data removed]",
      "text/plain": [
       "<Figure size 432x288 with 1 Axes>"
      ]
     },
     "metadata": {
      "needs_background": "light"
     },
     "output_type": "display_data"
    }
   ],
   "source": [
    "x = df[\"mon\"].value_counts().index\n",
    "y = df[\"mon\"].value_counts().values\n",
    "fig, ax = plt.subplots()\n",
    "sns.barplot(x = x, y = y, ax = ax)\n",
    "plt.xticks(rotation=45)\n",
    "plt.show()"
   ]
  },
  {
   "cell_type": "code",
   "execution_count": 170,
   "id": "1c7af208",
   "metadata": {},
   "outputs": [
    {
     "name": "stderr",
     "output_type": "stream",
     "text": [
      "C:\\Users\\anike\\.conda\\envs\\tf_test\\lib\\site-packages\\seaborn\\distributions.py:2619: FutureWarning: `distplot` is a deprecated function and will be removed in a future version. Please adapt your code to use either `displot` (a figure-level function with similar flexibility) or `histplot` (an axes-level function for histograms).\n",
      "  warnings.warn(msg, FutureWarning)\n"
     ]
    },
    {
     "data": {
      "image/png": "[encoded data removed]",
      "text/plain": [
       "<Figure size 432x288 with 1 Axes>"
      ]
     },
     "metadata": {
      "needs_background": "light"
     },
     "output_type": "display_data"
    }
   ],
   "source": [
    "fig, ax = plt.subplots()\n",
    "sns.distplot(df[\"dur\"], ax = ax)\n",
    "plt.show()"
   ]
  },
  {
   "cell_type": "code",
   "execution_count": 171,
   "id": "5fe409b4",
   "metadata": {},
   "outputs": [],
   "source": [
    "#remove egative duration\n",
    "df = df[df['dur']>0]"
   ]
  },
  {
   "cell_type": "code",
   "execution_count": 172,
   "id": "8e67995a",
   "metadata": {},
   "outputs": [
    {
     "name": "stderr",
     "output_type": "stream",
     "text": [
      "C:\\Users\\anike\\.conda\\envs\\tf_test\\lib\\site-packages\\seaborn\\distributions.py:2619: FutureWarning: `distplot` is a deprecated function and will be removed in a future version. Please adapt your code to use either `displot` (a figure-level function with similar flexibility) or `histplot` (an axes-level function for histograms).\n",
      "  warnings.warn(msg, FutureWarning)\n"
     ]
    },
    {
     "data": {
      "image/png": "[encoded data removed]",
      "text/plain": [
       "<Figure size 432x288 with 1 Axes>"
      ]
     },
     "metadata": {
      "needs_background": "light"
     },
     "output_type": "display_data"
    }
   ],
   "source": [
    "#take box cox transform of dur\n",
    "from sklearn.preprocessing import power_transform\n",
    "dur_box_cox = power_transform(df[\"dur\"].values.reshape(-1,1), method='box-cox')\n",
    "fig, ax = plt.subplots()\n",
    "sns.distplot(dur_box_cox, ax = ax)\n",
    "plt.show()"
   ]
  },
  {
   "cell_type": "code",
   "execution_count": 173,
   "id": "ed81c896",
   "metadata": {},
   "outputs": [],
   "source": [
    "#df[\"dur_box_cox\"] = dur_box_cox"
   ]
  },
  {
   "cell_type": "code",
   "execution_count": 174,
   "id": "1574ae92",
   "metadata": {},
   "outputs": [
    {
     "data": {
      "image/png": "[encoded data removed]",
      "text/plain": [
       "<Figure size 432x288 with 1 Axes>"
      ]
     },
     "metadata": {
      "needs_background": "light"
     },
     "output_type": "display_data"
    }
   ],
   "source": [
    "x = df[\"num_calls\"].value_counts().index\n",
    "y = df[\"num_calls\"].value_counts().values\n",
    "fig, ax = plt.subplots()\n",
    "sns.barplot(x = x, y = y, ax = ax)\n",
    "plt.xticks(rotation=45)\n",
    "plt.show()"
   ]
  },
  {
   "cell_type": "code",
   "execution_count": 175,
   "id": "c5038171",
   "metadata": {},
   "outputs": [
    {
     "name": "stderr",
     "output_type": "stream",
     "text": [
      "C:\\Users\\anike\\.conda\\envs\\tf_test\\lib\\site-packages\\seaborn\\distributions.py:2619: FutureWarning: `distplot` is a deprecated function and will be removed in a future version. Please adapt your code to use either `displot` (a figure-level function with similar flexibility) or `histplot` (an axes-level function for histograms).\n",
      "  warnings.warn(msg, FutureWarning)\n"
     ]
    },
    {
     "data": {
      "image/png": "[encoded data removed]",
      "text/plain": [
       "<Figure size 432x288 with 1 Axes>"
      ]
     },
     "metadata": {
      "needs_background": "light"
     },
     "output_type": "display_data"
    }
   ],
   "source": [
    "fig, ax = plt.subplots()\n",
    "sns.distplot(df[\"num_calls\"], ax = ax)\n",
    "plt.show()"
   ]
  },
  {
   "cell_type": "code",
   "execution_count": 176,
   "id": "3803f92c",
   "metadata": {},
   "outputs": [
    {
     "name": "stderr",
     "output_type": "stream",
     "text": [
      "C:\\Users\\anike\\.conda\\envs\\tf_test\\lib\\site-packages\\seaborn\\distributions.py:2619: FutureWarning: `distplot` is a deprecated function and will be removed in a future version. Please adapt your code to use either `displot` (a figure-level function with similar flexibility) or `histplot` (an axes-level function for histograms).\n",
      "  warnings.warn(msg, FutureWarning)\n"
     ]
    },
    {
     "data": {
      "image/png": "[encoded data removed]",
      "text/plain": [
       "<Figure size 432x288 with 1 Axes>"
      ]
     },
     "metadata": {
      "needs_background": "light"
     },
     "output_type": "display_data"
    }
   ],
   "source": [
    "#take box cox transform of dur\n",
    "from sklearn.preprocessing import power_transform\n",
    "calls_box_cox = power_transform(df[\"num_calls\"].values.reshape(-1,1), method='box-cox')\n",
    "fig, ax = plt.subplots()\n",
    "sns.distplot(calls_box_cox, ax = ax)\n",
    "plt.show()"
   ]
  },
  {
   "cell_type": "code",
   "execution_count": 177,
   "id": "01b42731",
   "metadata": {},
   "outputs": [],
   "source": [
    "def return_outlier_mask(ser):\n",
    "    \"\"\"returns a mask to filter out outliers based on a series\"\"\"\n",
    "    percentile25 = ser.quantile(0.25)\n",
    "    percentile90 = ser.quantile(0.99)\n",
    "    iqr = percentile90 - percentile25\n",
    "    upper_limit = percentile90 + 1.5 * iqr\n",
    "    lower_limit = percentile25 - 1.5 * iqr\n",
    "    mask = (ser < upper_limit) & (ser > lower_limit)\n",
    "    return mask\n",
    "    "
   ]
  },
  {
   "cell_type": "code",
   "execution_count": 178,
   "id": "fff3ca91",
   "metadata": {},
   "outputs": [],
   "source": [
    "calls_mask = return_outlier_mask(df[\"num_calls\"])"
   ]
  },
  {
   "cell_type": "code",
   "execution_count": 179,
   "id": "921d9ad6",
   "metadata": {},
   "outputs": [],
   "source": [
    "calls_no_outliers = df[\"num_calls\"][calls_mask]"
   ]
  },
  {
   "cell_type": "code",
   "execution_count": 180,
   "id": "cad4f3db",
   "metadata": {},
   "outputs": [
    {
     "name": "stdout",
     "output_type": "stream",
     "text": [
      "Data left after removing outliers from num_calls:99.96903202972925 %\n"
     ]
    }
   ],
   "source": [
    "print(f\"Data left after removing outliers from num_calls:{calls_no_outliers.shape[0]/df.shape[0]*100} %\")"
   ]
  },
  {
   "cell_type": "code",
   "execution_count": 181,
   "id": "73456113",
   "metadata": {},
   "outputs": [
    {
     "name": "stderr",
     "output_type": "stream",
     "text": [
      "C:\\Users\\anike\\.conda\\envs\\tf_test\\lib\\site-packages\\seaborn\\distributions.py:2619: FutureWarning: `distplot` is a deprecated function and will be removed in a future version. Please adapt your code to use either `displot` (a figure-level function with similar flexibility) or `histplot` (an axes-level function for histograms).\n",
      "  warnings.warn(msg, FutureWarning)\n"
     ]
    },
    {
     "data": {
      "image/png": "[encoded data removed]",
      "text/plain": [
       "<Figure size 432x288 with 1 Axes>"
      ]
     },
     "metadata": {
      "needs_background": "light"
     },
     "output_type": "display_data"
    }
   ],
   "source": [
    "fig, ax = plt.subplots()\n",
    "sns.distplot(calls_no_outliers, ax = ax)\n",
    "plt.show()"
   ]
  },
  {
   "cell_type": "markdown",
   "id": "f1560e6c",
   "metadata": {},
   "source": [
    "Removing outliers from num_calls"
   ]
  },
  {
   "cell_type": "code",
   "execution_count": 182,
   "id": "14f5b4ba",
   "metadata": {},
   "outputs": [],
   "source": [
    "df = df[calls_mask]"
   ]
  },
  {
   "cell_type": "code",
   "execution_count": 183,
   "id": "183e2f03",
   "metadata": {},
   "outputs": [
    {
     "data": {
      "image/png": "[encoded data removed]",
      "text/plain": [
       "<Figure size 432x288 with 1 Axes>"
      ]
     },
     "metadata": {
      "needs_background": "light"
     },
     "output_type": "display_data"
    }
   ],
   "source": [
    "x = df[\"prev_outcome\"].value_counts().index\n",
    "y = df[\"prev_outcome\"].value_counts().values\n",
    "fig, ax = plt.subplots()\n",
    "sns.barplot(x = x, y = y, ax = ax)\n",
    "plt.xticks(rotation=45)\n",
    "plt.show()"
   ]
  },
  {
   "cell_type": "code",
   "execution_count": 184,
   "id": "8cb6e419",
   "metadata": {},
   "outputs": [
    {
     "data": {
      "image/png": "[encoded data removed]",
      "text/plain": [
       "<Figure size 432x288 with 1 Axes>"
      ]
     },
     "metadata": {
      "needs_background": "light"
     },
     "output_type": "display_data"
    }
   ],
   "source": [
    "x = df[\"y\"].value_counts().index\n",
    "y = df[\"y\"].value_counts().values\n",
    "fig, ax = plt.subplots()\n",
    "sns.barplot(x = x, y = y, ax = ax)\n",
    "plt.xticks(rotation=45)\n",
    "plt.show()"
   ]
  },
  {
   "cell_type": "code",
   "execution_count": 185,
   "id": "4eb48fda",
   "metadata": {},
   "outputs": [
    {
     "name": "stdout",
     "output_type": "stream",
     "text": [
      "perc. of 'no' class data:88.3\n",
      "perc. of 'yes' class data:11.7\n"
     ]
    }
   ],
   "source": [
    "no_perc = round(df[df['y'] == \"no\"].shape[0]/df.shape[0]*100,2)\n",
    "print(f\"perc. of 'no' class data:{no_perc}\")\n",
    "print(f\"perc. of 'yes' class data:{round(100-no_perc,2)}\")"
   ]
  },
  {
   "cell_type": "markdown",
   "id": "b291b727",
   "metadata": {},
   "source": [
    "# Bivariate"
   ]
  },
  {
   "cell_type": "code",
   "execution_count": 186,
   "id": "8e13899a",
   "metadata": {},
   "outputs": [
    {
     "data": {
      "text/plain": [
       "Index(['age', 'job', 'marital', 'education_qual', 'call_type', 'day', 'mon',\n",
       "       'dur', 'num_calls', 'prev_outcome', 'y'],\n",
       "      dtype='object')"
      ]
     },
     "execution_count": 186,
     "metadata": {},
     "output_type": "execute_result"
    }
   ],
   "source": [
    "df.columns"
   ]
  },
  {
   "cell_type": "code",
   "execution_count": null,
   "id": "6945406d",
   "metadata": {},
   "outputs": [],
   "source": []
  },
  {
   "cell_type": "code",
   "execution_count": 187,
   "id": "f12d653b",
   "metadata": {},
   "outputs": [
    {
     "data": {
      "text/plain": [
       "<AxesSubplot:xlabel='y', ylabel='age'>"
      ]
     },
     "execution_count": 187,
     "metadata": {},
     "output_type": "execute_result"
    },
    {
     "data": {
      "image/png": "[encoded data removed]",
      "text/plain": [
       "<Figure size 432x288 with 1 Axes>"
      ]
     },
     "metadata": {
      "needs_background": "light"
     },
     "output_type": "display_data"
    }
   ],
   "source": [
    "#age\n",
    "sns.barplot(x = df[\"y\"], y = df['age'], estimator = np.mean)"
   ]
  },
  {
   "cell_type": "code",
   "execution_count": 188,
   "id": "7d822271",
   "metadata": {},
   "outputs": [
    {
     "data": {
      "text/plain": [
       "<AxesSubplot:xlabel='y', ylabel='dur'>"
      ]
     },
     "execution_count": 188,
     "metadata": {},
     "output_type": "execute_result"
    },
    {
     "data": {
      "image/png": "[encoded data removed]",
      "text/plain": [
       "<Figure size 432x288 with 1 Axes>"
      ]
     },
     "metadata": {
      "needs_background": "light"
     },
     "output_type": "display_data"
    }
   ],
   "source": [
    "#dur\n",
    "sns.barplot(x = df[\"y\"], y = df['dur'], estimator = np.mean)"
   ]
  },
  {
   "cell_type": "code",
   "execution_count": 189,
   "id": "dc293261",
   "metadata": {},
   "outputs": [
    {
     "name": "stdout",
     "output_type": "stream",
     "text": [
      "y                no   yes\n",
      "job                      \n",
      "admin.         4540   631\n",
      "blue-collar    9015   708\n",
      "entrepreneur   1363   123\n",
      "housemaid      1131   109\n",
      "management     8153  1301\n",
      "retired        1748   516\n",
      "self-employed  1392   187\n",
      "services       3785   369\n",
      "student         669   269\n",
      "technician     6754   840\n",
      "unemployed     1101   202\n",
      "unknown         254    34\n"
     ]
    }
   ],
   "source": [
    "CrosstabResult=pd.crosstab(index=df['job'],columns=df['y'])\n",
    "print(CrosstabResult)"
   ]
  },
  {
   "cell_type": "code",
   "execution_count": 190,
   "id": "1487a491",
   "metadata": {},
   "outputs": [
    {
     "data": {
      "image/png": "[encoded data removed]",
      "text/plain": [
       "<Figure size 504x288 with 1 Axes>"
      ]
     },
     "metadata": {
      "needs_background": "light"
     },
     "output_type": "display_data"
    }
   ],
   "source": [
    "CrosstabResult.plot.bar(figsize=(7,4), rot=0)\n",
    "plt.xticks(rotation=45)\n",
    "plt.show()"
   ]
  },
  {
   "cell_type": "code",
   "execution_count": 191,
   "id": "738d4635",
   "metadata": {},
   "outputs": [
    {
     "name": "stdout",
     "output_type": "stream",
     "text": [
      "y            no   yes\n",
      "marital              \n",
      "divorced   4585   622\n",
      "married   24446  2755\n",
      "single    10874  1912\n"
     ]
    }
   ],
   "source": [
    "#marital\n",
    "CrosstabResult=pd.crosstab(index=df['marital'],columns=df['y'])\n",
    "print(CrosstabResult)"
   ]
  },
  {
   "cell_type": "code",
   "execution_count": 192,
   "id": "885773bd",
   "metadata": {},
   "outputs": [
    {
     "data": {
      "image/png": "[encoded data removed]",
      "text/plain": [
       "<Figure size 504x288 with 1 Axes>"
      ]
     },
     "metadata": {
      "needs_background": "light"
     },
     "output_type": "display_data"
    }
   ],
   "source": [
    "CrosstabResult.plot.bar(figsize=(7,4), rot=0)\n",
    "plt.xticks(rotation=45)\n",
    "plt.show()"
   ]
  },
  {
   "cell_type": "code",
   "execution_count": 193,
   "id": "e1461da3",
   "metadata": {},
   "outputs": [
    {
     "name": "stdout",
     "output_type": "stream",
     "text": [
      "y                  no   yes\n",
      "education_qual             \n",
      "primary          6256   591\n",
      "secondary       20743  2450\n",
      "tertiary        11303  1996\n",
      "unknown          1603   252\n"
     ]
    }
   ],
   "source": [
    "#education_qual\n",
    "CrosstabResult=pd.crosstab(index=df['education_qual'],columns=df['y'])\n",
    "print(CrosstabResult)"
   ]
  },
  {
   "cell_type": "code",
   "execution_count": 194,
   "id": "bf742ee9",
   "metadata": {},
   "outputs": [
    {
     "data": {
      "image/png": "[encoded data removed]",
      "text/plain": [
       "<Figure size 504x288 with 1 Axes>"
      ]
     },
     "metadata": {
      "needs_background": "light"
     },
     "output_type": "display_data"
    }
   ],
   "source": [
    "CrosstabResult.plot.bar(figsize=(7,4), rot=0)\n",
    "plt.xticks(rotation=45)\n",
    "plt.show()"
   ]
  },
  {
   "cell_type": "markdown",
   "id": "4d49569f",
   "metadata": {},
   "source": [
    "unknown>primary>tertiary>secondary"
   ]
  },
  {
   "cell_type": "code",
   "execution_count": 195,
   "id": "01a92eda",
   "metadata": {},
   "outputs": [
    {
     "name": "stdout",
     "output_type": "stream",
     "text": [
      "y             no   yes\n",
      "call_type             \n",
      "cellular   24910  4369\n",
      "telephone   2515   390\n",
      "unknown    12480   530\n"
     ]
    }
   ],
   "source": [
    "#call_type\n",
    "CrosstabResult=pd.crosstab(index=df['call_type'],columns=df['y'])\n",
    "print(CrosstabResult)"
   ]
  },
  {
   "cell_type": "code",
   "execution_count": 196,
   "id": "46a651e1",
   "metadata": {},
   "outputs": [
    {
     "data": {
      "image/png": "[encoded data removed]",
      "text/plain": [
       "<Figure size 504x288 with 1 Axes>"
      ]
     },
     "metadata": {
      "needs_background": "light"
     },
     "output_type": "display_data"
    }
   ],
   "source": [
    "CrosstabResult.plot.bar(figsize=(7,4), rot=0)\n",
    "plt.xticks(rotation=45)\n",
    "plt.show()"
   ]
  },
  {
   "cell_type": "code",
   "execution_count": 197,
   "id": "d2e266ab",
   "metadata": {},
   "outputs": [
    {
     "name": "stdout",
     "output_type": "stream",
     "text": [
      "y      no  yes\n",
      "day           \n",
      "1     232   90\n",
      "2    1111  182\n",
      "3     901  178\n",
      "4    1215  230\n",
      "5    1695  215\n",
      "6    1751  181\n",
      "7    1660  157\n",
      "8    1641  201\n",
      "9    1381  179\n",
      "10    403  121\n",
      "11   1297  181\n",
      "12   1359  244\n",
      "13   1344  241\n",
      "14   1638  210\n",
      "15   1465  238\n",
      "16   1222  192\n",
      "17   1763  176\n",
      "18   2079  228\n",
      "19   1631  122\n",
      "20   2559  192\n",
      "21   1824  201\n",
      "22    751  154\n",
      "23    812  126\n",
      "24    385   62\n",
      "25    707  133\n",
      "26    918  116\n",
      "27    970  150\n",
      "28   1687  143\n",
      "29   1616  129\n",
      "30   1295  271\n",
      "31    593   46\n"
     ]
    }
   ],
   "source": [
    "#day\n",
    "CrosstabResult=pd.crosstab(index=df['day'],columns=df['y'])\n",
    "print(CrosstabResult)"
   ]
  },
  {
   "cell_type": "code",
   "execution_count": 198,
   "id": "4e552521",
   "metadata": {},
   "outputs": [
    {
     "data": {
      "image/png": "[encoded data removed]",
      "text/plain": [
       "<Figure size 504x288 with 1 Axes>"
      ]
     },
     "metadata": {
      "needs_background": "light"
     },
     "output_type": "display_data"
    }
   ],
   "source": [
    "CrosstabResult.plot.bar(figsize=(7,4), rot=0)\n",
    "plt.xticks(rotation=45)\n",
    "plt.show()"
   ]
  },
  {
   "cell_type": "code",
   "execution_count": 199,
   "id": "522e1de6",
   "metadata": {},
   "outputs": [
    {
     "name": "stdout",
     "output_type": "stream",
     "text": [
      "y       no  yes\n",
      "mon            \n",
      "apr   2355  577\n",
      "aug   5558  688\n",
      "dec    114  100\n",
      "feb   2208  441\n",
      "jan   1261  142\n",
      "jul   6263  627\n",
      "jun   4792  546\n",
      "mar    229  248\n",
      "may  12833  925\n",
      "nov   3567  403\n",
      "oct    415  323\n",
      "sep    310  269\n"
     ]
    }
   ],
   "source": [
    "#mon\n",
    "CrosstabResult=pd.crosstab(index=df['mon'],columns=df['y'])\n",
    "print(CrosstabResult)"
   ]
  },
  {
   "cell_type": "code",
   "execution_count": 200,
   "id": "3f4e69ea",
   "metadata": {},
   "outputs": [
    {
     "data": {
      "image/png": "[encoded data removed]",
      "text/plain": [
       "<Figure size 504x288 with 1 Axes>"
      ]
     },
     "metadata": {
      "needs_background": "light"
     },
     "output_type": "display_data"
    }
   ],
   "source": [
    "CrosstabResult.plot.bar(figsize=(7,4), rot=0)\n",
    "plt.xticks(rotation=45)\n",
    "plt.show()"
   ]
  },
  {
   "cell_type": "code",
   "execution_count": 201,
   "id": "4d22bad5",
   "metadata": {
    "scrolled": true
   },
   "outputs": [
    {
     "name": "stdout",
     "output_type": "stream",
     "text": [
      "y             no   yes\n",
      "num_calls             \n",
      "1          14983  2561\n",
      "2          11103  1401\n",
      "3           4903   618\n",
      "4           3204   317\n",
      "5           1625   139\n",
      "6           1199    92\n",
      "7            688    47\n",
      "8            508    32\n",
      "9            306    21\n",
      "10           252    14\n",
      "11           185    16\n",
      "12           151     4\n",
      "13           127     6\n",
      "14            89     4\n",
      "15            79     4\n",
      "16            77     2\n",
      "17            63     6\n",
      "18            51     0\n",
      "19            44     0\n",
      "20            42     1\n",
      "21            34     1\n",
      "22            23     0\n",
      "23            22     0\n",
      "24            19     1\n",
      "25            22     0\n",
      "26            13     0\n",
      "27            10     0\n",
      "28            16     0\n",
      "29            15     1\n",
      "30             8     0\n",
      "31            12     0\n",
      "32             8     1\n",
      "33             6     0\n",
      "34             5     0\n",
      "35             4     0\n",
      "36             4     0\n",
      "37             2     0\n",
      "38             3     0\n"
     ]
    }
   ],
   "source": [
    "#num_calls\n",
    "CrosstabResult=pd.crosstab(index=df['num_calls'],columns=df['y'])\n",
    "print(CrosstabResult)"
   ]
  },
  {
   "cell_type": "code",
   "execution_count": 202,
   "id": "1b8bd90d",
   "metadata": {},
   "outputs": [
    {
     "data": {
      "image/png": "[encoded data removed]",
      "text/plain": [
       "<Figure size 504x288 with 1 Axes>"
      ]
     },
     "metadata": {
      "needs_background": "light"
     },
     "output_type": "display_data"
    }
   ],
   "source": [
    "CrosstabResult.plot.bar(figsize=(7,4), rot=0)\n",
    "plt.xticks(rotation=45)\n",
    "plt.show()"
   ]
  },
  {
   "cell_type": "code",
   "execution_count": 203,
   "id": "4dfb8b86",
   "metadata": {},
   "outputs": [
    {
     "name": "stdout",
     "output_type": "stream",
     "text": [
      "y                no   yes\n",
      "prev_outcome             \n",
      "failure        4283   618\n",
      "other          1533   307\n",
      "success         533   978\n",
      "unknown       33556  3386\n"
     ]
    }
   ],
   "source": [
    "#prev_outcome\n",
    "CrosstabResult=pd.crosstab(index=df['prev_outcome'],columns=df['y'])\n",
    "print(CrosstabResult)"
   ]
  },
  {
   "cell_type": "code",
   "execution_count": 204,
   "id": "bd86aac5",
   "metadata": {},
   "outputs": [
    {
     "data": {
      "image/png": "[encoded data removed]",
      "text/plain": [
       "<Figure size 504x288 with 1 Axes>"
      ]
     },
     "metadata": {
      "needs_background": "light"
     },
     "output_type": "display_data"
    }
   ],
   "source": [
    "CrosstabResult.plot.bar(figsize=(7,4), rot=0)\n",
    "plt.xticks(rotation=45)\n",
    "plt.show()"
   ]
  },
  {
   "cell_type": "code",
   "execution_count": 206,
   "id": "53624a84",
   "metadata": {},
   "outputs": [
    {
     "data": {
      "text/plain": [
       "Index(['age', 'job', 'marital', 'education_qual', 'call_type', 'day', 'mon',\n",
       "       'dur', 'num_calls', 'prev_outcome', 'y'],\n",
       "      dtype='object')"
      ]
     },
     "execution_count": 206,
     "metadata": {},
     "output_type": "execute_result"
    }
   ],
   "source": [
    "df.columns"
   ]
  },
  {
   "cell_type": "markdown",
   "id": "76a2884d",
   "metadata": {},
   "source": [
    "- age:as it is\n",
    "- job:one hot\n",
    "- marital:label | divorced>single>married\n",
    "- education_qual:label | unknown>primary>tertiary>secondary\n",
    "- call_type:one hot\n",
    "- day: one hot\n",
    "- mon: one hot\n",
    "- dur: box cox\n",
    "- num_calls:as it is\n",
    "- prev_outcome: one-hot\n"
   ]
  },
  {
   "cell_type": "markdown",
   "id": "fe900ec2",
   "metadata": {},
   "source": [
    "# Splitting"
   ]
  },
  {
   "cell_type": "code",
   "execution_count": 368,
   "id": "cbeb96b8",
   "metadata": {},
   "outputs": [],
   "source": [
    "X = df.drop([\"y\"], axis = 1)\n",
    "y = df[\"y\"]"
   ]
  },
  {
   "cell_type": "code",
   "execution_count": 369,
   "id": "a33d521e",
   "metadata": {},
   "outputs": [],
   "source": [
    "from sklearn.model_selection import train_test_split\n",
    "X_train, X_test, y_train, y_test = train_test_split(X, y, test_size=0.30, random_state=42, stratify = y)   "
   ]
  },
  {
   "cell_type": "markdown",
   "id": "20cb33de",
   "metadata": {},
   "source": [
    "# Encoding"
   ]
  },
  {
   "cell_type": "code",
   "execution_count": 370,
   "id": "d7859bb9",
   "metadata": {},
   "outputs": [],
   "source": [
    "#job one hot encoding\n",
    "from sklearn.preprocessing import OneHotEncoder\n",
    "job_enc = OneHotEncoder(handle_unknown='ignore')\n",
    "job_enc.fit(X_train[\"job\"].values.reshape(-1,1))\n",
    "X_train_job = job_enc.transform(X_train[\"job\"].values.reshape(-1,1))\n",
    "X_test_job = job_enc.transform(X_test[\"job\"].values.reshape(-1,1))"
   ]
  },
  {
   "cell_type": "code",
   "execution_count": 371,
   "id": "915e8b4d",
   "metadata": {},
   "outputs": [],
   "source": [
    "job_categories = list(job_enc.categories_[0])"
   ]
  },
  {
   "cell_type": "code",
   "execution_count": 372,
   "id": "d484c09e",
   "metadata": {},
   "outputs": [],
   "source": [
    "#Marital\n",
    "from sklearn.preprocessing import OrdinalEncoder\n",
    "marital_enc = OrdinalEncoder(categories=[['divorced','single','married']])\n",
    "marital_enc.fit(X_train['marital'].values.reshape(-1,1))\n",
    "X_train_marital = marital_enc.transform(X_train[\"marital\"].values.reshape(-1,1))\n",
    "X_test_marital = marital_enc.transform(X_test[\"marital\"].values.reshape(-1,1))"
   ]
  },
  {
   "cell_type": "code",
   "execution_count": 373,
   "id": "3cec45c3",
   "metadata": {},
   "outputs": [
    {
     "data": {
      "text/plain": [
       "array([[0.],\n",
       "       [2.],\n",
       "       [1.],\n",
       "       ...,\n",
       "       [2.],\n",
       "       [2.],\n",
       "       [0.]])"
      ]
     },
     "execution_count": 373,
     "metadata": {},
     "output_type": "execute_result"
    }
   ],
   "source": [
    "X_train_marital"
   ]
  },
  {
   "cell_type": "code",
   "execution_count": 374,
   "id": "a53e60ca",
   "metadata": {},
   "outputs": [
    {
     "data": {
      "text/plain": [
       "[array(['divorced', 'single', 'married'], dtype=object)]"
      ]
     },
     "execution_count": 374,
     "metadata": {},
     "output_type": "execute_result"
    }
   ],
   "source": [
    "marital_enc.categories_"
   ]
  },
  {
   "cell_type": "code",
   "execution_count": 375,
   "id": "c710babb",
   "metadata": {},
   "outputs": [],
   "source": [
    "#education_qual\n",
    "from sklearn.preprocessing import OrdinalEncoder\n",
    "education_qual_enc = OrdinalEncoder(categories=[[\"unknown\", \"primary\", \"tertiary\", \"secondary\"]])\n",
    "education_qual_enc.fit(X_train['education_qual'].values.reshape(-1,1))\n",
    "X_train_education_qual = education_qual_enc.transform(X_train[\"education_qual\"].values.reshape(-1,1))\n",
    "X_test_education_qual = education_qual_enc.transform(X_test[\"education_qual\"].values.reshape(-1,1))"
   ]
  },
  {
   "cell_type": "code",
   "execution_count": 376,
   "id": "82d0712a",
   "metadata": {},
   "outputs": [],
   "source": [
    "education_qual_categories = list(education_qual_enc.categories_[0])"
   ]
  },
  {
   "cell_type": "code",
   "execution_count": 377,
   "id": "0ae6f47b",
   "metadata": {},
   "outputs": [],
   "source": [
    "#call_type one hot encoding\n",
    "from sklearn.preprocessing import OneHotEncoder\n",
    "call_type_enc = OneHotEncoder(handle_unknown='ignore')\n",
    "call_type_enc.fit(X_train[\"call_type\"].values.reshape(-1,1))\n",
    "X_train_call_type = call_type_enc.transform(X_train[\"call_type\"].values.reshape(-1,1))\n",
    "X_test_call_type = call_type_enc.transform(X_test[\"call_type\"].values.reshape(-1,1))"
   ]
  },
  {
   "cell_type": "code",
   "execution_count": 378,
   "id": "0c37230d",
   "metadata": {},
   "outputs": [],
   "source": [
    "call_type_categories = list(call_type_enc.categories_[0])"
   ]
  },
  {
   "cell_type": "code",
   "execution_count": 379,
   "id": "e8292598",
   "metadata": {},
   "outputs": [
    {
     "data": {
      "text/plain": [
       "['cellular', 'telephone', 'unknown']"
      ]
     },
     "execution_count": 379,
     "metadata": {},
     "output_type": "execute_result"
    }
   ],
   "source": [
    "call_type_categories"
   ]
  },
  {
   "cell_type": "code",
   "execution_count": 380,
   "id": "27dc52c8",
   "metadata": {},
   "outputs": [],
   "source": [
    "#day one hot encoding\n",
    "from sklearn.preprocessing import OneHotEncoder\n",
    "day_enc = OneHotEncoder(handle_unknown='ignore')\n",
    "day_enc.fit(X_train[\"day\"].values.reshape(-1,1))\n",
    "X_train_day = day_enc.transform(X_train[\"day\"].values.reshape(-1,1))\n",
    "X_test_day = day_enc.transform(X_test[\"day\"].values.reshape(-1,1))"
   ]
  },
  {
   "cell_type": "code",
   "execution_count": 381,
   "id": "b3233065",
   "metadata": {},
   "outputs": [],
   "source": [
    "day_categories = list(day_enc.categories_[0])"
   ]
  },
  {
   "cell_type": "code",
   "execution_count": 382,
   "id": "5bbb4db8",
   "metadata": {
    "scrolled": true
   },
   "outputs": [
    {
     "data": {
      "text/plain": [
       "[1,\n",
       " 2,\n",
       " 3,\n",
       " 4,\n",
       " 5,\n",
       " 6,\n",
       " 7,\n",
       " 8,\n",
       " 9,\n",
       " 10,\n",
       " 11,\n",
       " 12,\n",
       " 13,\n",
       " 14,\n",
       " 15,\n",
       " 16,\n",
       " 17,\n",
       " 18,\n",
       " 19,\n",
       " 20,\n",
       " 21,\n",
       " 22,\n",
       " 23,\n",
       " 24,\n",
       " 25,\n",
       " 26,\n",
       " 27,\n",
       " 28,\n",
       " 29,\n",
       " 30,\n",
       " 31]"
      ]
     },
     "execution_count": 382,
     "metadata": {},
     "output_type": "execute_result"
    }
   ],
   "source": [
    "day_categories"
   ]
  },
  {
   "cell_type": "code",
   "execution_count": 383,
   "id": "fc759c10",
   "metadata": {},
   "outputs": [],
   "source": [
    "#mon one hot encoding\n",
    "from sklearn.preprocessing import OneHotEncoder\n",
    "mon_enc = OneHotEncoder(handle_unknown='ignore')\n",
    "mon_enc.fit(X_train[\"mon\"].values.reshape(-1,1))\n",
    "X_train_mon = mon_enc.transform(X_train[\"mon\"].values.reshape(-1,1))\n",
    "X_test_mon = mon_enc.transform(X_test[\"mon\"].values.reshape(-1,1))"
   ]
  },
  {
   "cell_type": "code",
   "execution_count": 384,
   "id": "3abf953b",
   "metadata": {},
   "outputs": [],
   "source": [
    "mon_categories = list(mon_enc.categories_[0])"
   ]
  },
  {
   "cell_type": "code",
   "execution_count": 385,
   "id": "16dc8616",
   "metadata": {
    "scrolled": false
   },
   "outputs": [
    {
     "data": {
      "text/plain": [
       "['apr',\n",
       " 'aug',\n",
       " 'dec',\n",
       " 'feb',\n",
       " 'jan',\n",
       " 'jul',\n",
       " 'jun',\n",
       " 'mar',\n",
       " 'may',\n",
       " 'nov',\n",
       " 'oct',\n",
       " 'sep']"
      ]
     },
     "execution_count": 385,
     "metadata": {},
     "output_type": "execute_result"
    }
   ],
   "source": [
    "mon_categories"
   ]
  },
  {
   "cell_type": "code",
   "execution_count": 386,
   "id": "cb913ccf",
   "metadata": {},
   "outputs": [],
   "source": [
    "#dur\n",
    "from sklearn.preprocessing import PowerTransformer\n",
    "dur_enc = PowerTransformer(method='box-cox', standardize=True)\n",
    "dur_enc.fit(X_train['dur'].values.reshape(-1,1))\n",
    "X_train_dur = dur_enc.transform(X_train[\"dur\"].values.reshape(-1,1))\n",
    "X_test_dur = dur_enc.transform(X_test[\"dur\"].values.reshape(-1,1))\n"
   ]
  },
  {
   "cell_type": "code",
   "execution_count": null,
   "id": "ae76060f",
   "metadata": {},
   "outputs": [],
   "source": []
  },
  {
   "cell_type": "code",
   "execution_count": 387,
   "id": "de07fb8d",
   "metadata": {},
   "outputs": [],
   "source": [
    "#prev_outcome one hot encoding\n",
    "from sklearn.preprocessing import OneHotEncoder\n",
    "prev_outcome_enc = OneHotEncoder(handle_unknown='ignore')\n",
    "prev_outcome_enc.fit(X_train[\"prev_outcome\"].values.reshape(-1,1))\n",
    "X_train_prev_outcome = prev_outcome_enc.transform(X_train[\"prev_outcome\"].values.reshape(-1,1))\n",
    "X_test_prev_outcome = prev_outcome_enc.transform(X_test[\"prev_outcome\"].values.reshape(-1,1))"
   ]
  },
  {
   "cell_type": "code",
   "execution_count": 388,
   "id": "4596fe8c",
   "metadata": {},
   "outputs": [],
   "source": [
    "prev_outcome_categories = list(prev_outcome_enc.categories_[0])"
   ]
  },
  {
   "cell_type": "code",
   "execution_count": 389,
   "id": "8f6a902f",
   "metadata": {},
   "outputs": [
    {
     "data": {
      "text/plain": [
       "['failure', 'other', 'success', 'unknown']"
      ]
     },
     "execution_count": 389,
     "metadata": {},
     "output_type": "execute_result"
    }
   ],
   "source": [
    "prev_outcome_categories"
   ]
  },
  {
   "cell_type": "code",
   "execution_count": 390,
   "id": "1418afae",
   "metadata": {},
   "outputs": [
    {
     "data": {
      "text/plain": [
       "<31635x1 sparse matrix of type '<class 'numpy.float64'>'\n",
       "\twith 28035 stored elements in COOrdinate format>"
      ]
     },
     "execution_count": 390,
     "metadata": {},
     "output_type": "execute_result"
    }
   ],
   "source": [
    "from scipy.sparse import coo_matrix, hstack\n",
    "coo_matrix(X_train_marital)"
   ]
  },
  {
   "cell_type": "code",
   "execution_count": 411,
   "id": "e33963a7",
   "metadata": {},
   "outputs": [],
   "source": [
    "from scipy.sparse import coo_matrix, hstack\n",
    "X_train_final = hstack([X_train_job, X_train_call_type, X_train_day, X_train_mon, X_train_prev_outcome,\n",
    "                       coo_matrix(X_train_marital), coo_matrix(X_train_education_qual), coo_matrix(X_train_dur),\n",
    "                       coo_matrix(X_train['age'].values.reshape(-1,1)), coo_matrix(X_train['num_calls'].values.reshape(-1,1))])"
   ]
  },
  {
   "cell_type": "code",
   "execution_count": 412,
   "id": "a1ee9fe2",
   "metadata": {},
   "outputs": [
    {
     "data": {
      "text/plain": [
       "<31635x67 sparse matrix of type '<class 'numpy.float64'>'\n",
       "\twith 311425 stored elements in COOrdinate format>"
      ]
     },
     "execution_count": 412,
     "metadata": {},
     "output_type": "execute_result"
    }
   ],
   "source": [
    "X_train_final"
   ]
  },
  {
   "cell_type": "code",
   "execution_count": 413,
   "id": "cdcf8b40",
   "metadata": {},
   "outputs": [],
   "source": [
    "import itertools\n",
    "non_one_hot_columns = [\"marital\", \"education_qual\", \"dur\", \"age\", \"num_calls\"]\n",
    "input_dims = list(itertools.chain(job_categories, call_type_categories, day_categories, \n",
    "                                  mon_categories, prev_outcome_categories, non_one_hot_columns))"
   ]
  },
  {
   "cell_type": "code",
   "execution_count": 414,
   "id": "e6dc6c3d",
   "metadata": {},
   "outputs": [
    {
     "data": {
      "text/plain": [
       "67"
      ]
     },
     "execution_count": 414,
     "metadata": {},
     "output_type": "execute_result"
    }
   ],
   "source": [
    "len(input_dims)"
   ]
  },
  {
   "cell_type": "code",
   "execution_count": 415,
   "id": "911dd5bd",
   "metadata": {},
   "outputs": [],
   "source": [
    "from scipy.sparse import coo_matrix, hstack\n",
    "X_test_final = hstack([X_test_job, X_test_call_type, X_test_day, X_test_mon, X_test_prev_outcome,\n",
    "                       coo_matrix(X_test_marital), coo_matrix(X_test_education_qual), coo_matrix(X_test_dur),\n",
    "                       coo_matrix(X_test['age'].values.reshape(-1,1)), \n",
    "                       coo_matrix(X_test['num_calls'].values.reshape(-1,1))])"
   ]
  },
  {
   "cell_type": "code",
   "execution_count": 416,
   "id": "2a298f30",
   "metadata": {},
   "outputs": [
    {
     "data": {
      "text/plain": [
       "<13559x67 sparse matrix of type '<class 'numpy.float64'>'\n",
       "\twith 133453 stored elements in COOrdinate format>"
      ]
     },
     "execution_count": 416,
     "metadata": {},
     "output_type": "execute_result"
    }
   ],
   "source": [
    "X_test_final"
   ]
  },
  {
   "cell_type": "code",
   "execution_count": 417,
   "id": "1b26a7f3",
   "metadata": {},
   "outputs": [],
   "source": [
    "#encoding target\n",
    "from sklearn import preprocessing\n",
    "le = preprocessing.LabelEncoder()\n",
    "le.fit(y_train)\n",
    "y_train_enc = le.transform(y_train)\n",
    "y_test_enc = le.transform(y_test)"
   ]
  },
  {
   "cell_type": "code",
   "execution_count": 418,
   "id": "bc507c80",
   "metadata": {},
   "outputs": [],
   "source": [
    "from sklearn.linear_model import LogisticRegression\n",
    "from sklearn.model_selection import RepeatedStratifiedKFold\n",
    "from sklearn.model_selection import GridSearchCV"
   ]
  },
  {
   "cell_type": "code",
   "execution_count": 419,
   "id": "4dc60e70",
   "metadata": {},
   "outputs": [],
   "source": [
    "# define model\n",
    "model = LogisticRegression()\n",
    "# define evaluation\n",
    "cv = RepeatedStratifiedKFold(n_splits=10, n_repeats=3, random_state=1)\n",
    "# define search space\n",
    "space = dict()\n",
    "space['solver'] = ['newton-cg', 'lbfgs', 'liblinear']\n",
    "space['penalty'] = ['l1', 'l2', 'elasticnet']\n",
    "space['C'] = [1e-5, 1e-4, 1e-3, 1e-2, 1e-1, 1, 10, 100]\n",
    "# define search\n",
    "search = GridSearchCV(model, space, scoring='f1_weighted', n_jobs=-1, cv=cv)"
   ]
  },
  {
   "cell_type": "code",
   "execution_count": 420,
   "id": "6de969c6",
   "metadata": {
    "scrolled": false
   },
   "outputs": [
    {
     "name": "stderr",
     "output_type": "stream",
     "text": [
      "C:\\Users\\anike\\.conda\\envs\\tf_test\\lib\\site-packages\\sklearn\\model_selection\\_search.py:925: UserWarning: One or more of the test scores are non-finite: [       nan        nan 0.82810291 0.82810291 0.82810291 0.82810291\n",
      "        nan        nan        nan        nan        nan 0.82810291\n",
      " 0.82810291 0.82810291 0.82810291        nan        nan        nan\n",
      "        nan        nan 0.83914783 0.84261638 0.84259386 0.84550619\n",
      "        nan        nan        nan        nan        nan 0.87983997\n",
      " 0.88208316 0.88235076 0.88198896        nan        nan        nan\n",
      "        nan        nan 0.88974739 0.890492   0.89041171 0.8905029\n",
      "        nan        nan        nan        nan        nan 0.89189848\n",
      " 0.89196828 0.89173357 0.8919427         nan        nan        nan\n",
      "        nan        nan 0.89205829 0.89203922 0.89167868 0.89200722\n",
      "        nan        nan        nan        nan        nan 0.89202105\n",
      " 0.89202135 0.89170416 0.89202159        nan        nan        nan]\n",
      "  category=UserWarning\n"
     ]
    }
   ],
   "source": [
    "# execute search\n",
    "result = search.fit(X_train_final, y_train_enc)"
   ]
  },
  {
   "cell_type": "code",
   "execution_count": 421,
   "id": "528ec078",
   "metadata": {},
   "outputs": [
    {
     "name": "stdout",
     "output_type": "stream",
     "text": [
      "Best f1-Score: 0.8920582887564826\n",
      "Best Hyperparameters: {'C': 10, 'penalty': 'l1', 'solver': 'liblinear'}\n"
     ]
    }
   ],
   "source": [
    "# summarize result\n",
    "print('Best f1-Score: %s' % result.best_score_)\n",
    "print('Best Hyperparameters: %s' % result.best_params_)"
   ]
  },
  {
   "cell_type": "code",
   "execution_count": 422,
   "id": "2e72b2d4",
   "metadata": {},
   "outputs": [
    {
     "data": {
      "text/plain": [
       "LogisticRegression(C=10, penalty='l1', solver='liblinear')"
      ]
     },
     "execution_count": 422,
     "metadata": {},
     "output_type": "execute_result"
    }
   ],
   "source": [
    "result.best_estimator_"
   ]
  },
  {
   "cell_type": "code",
   "execution_count": 423,
   "id": "09c29b17",
   "metadata": {},
   "outputs": [
    {
     "data": {
      "text/plain": [
       "LogisticRegression(C=10, penalty='l1', solver='liblinear')"
      ]
     },
     "execution_count": 423,
     "metadata": {},
     "output_type": "execute_result"
    }
   ],
   "source": [
    "model = LogisticRegression(C=10, penalty='l1', solver='liblinear')\n",
    "model.fit(X_train_final, y_train_enc)"
   ]
  },
  {
   "cell_type": "code",
   "execution_count": 424,
   "id": "16bd3bf8",
   "metadata": {},
   "outputs": [
    {
     "data": {
      "text/plain": [
       "<31635x67 sparse matrix of type '<class 'numpy.float64'>'\n",
       "\twith 311425 stored elements in COOrdinate format>"
      ]
     },
     "execution_count": 424,
     "metadata": {},
     "output_type": "execute_result"
    }
   ],
   "source": [
    "X_train_final"
   ]
  },
  {
   "cell_type": "code",
   "execution_count": 425,
   "id": "009d1957",
   "metadata": {},
   "outputs": [
    {
     "data": {
      "text/plain": [
       "<13559x67 sparse matrix of type '<class 'numpy.float64'>'\n",
       "\twith 133453 stored elements in COOrdinate format>"
      ]
     },
     "execution_count": 425,
     "metadata": {},
     "output_type": "execute_result"
    }
   ],
   "source": [
    "X_test_final"
   ]
  },
  {
   "cell_type": "code",
   "execution_count": 426,
   "id": "e2254742",
   "metadata": {},
   "outputs": [],
   "source": [
    "train_prediction = model.predict(X_train_final)\n",
    "test_prediction = model.predict(X_test_final)"
   ]
  },
  {
   "cell_type": "code",
   "execution_count": 427,
   "id": "106ee833",
   "metadata": {},
   "outputs": [
    {
     "data": {
      "text/plain": [
       "array([0, 0, 0, ..., 1, 1, 1])"
      ]
     },
     "execution_count": 427,
     "metadata": {},
     "output_type": "execute_result"
    }
   ],
   "source": [
    "train_prediction"
   ]
  },
  {
   "cell_type": "code",
   "execution_count": 428,
   "id": "01ecd764",
   "metadata": {},
   "outputs": [
    {
     "data": {
      "text/plain": [
       "array([0, 0, 0, ..., 0, 0, 0])"
      ]
     },
     "execution_count": 428,
     "metadata": {},
     "output_type": "execute_result"
    }
   ],
   "source": [
    "test_prediction"
   ]
  },
  {
   "cell_type": "code",
   "execution_count": 429,
   "id": "aa98010d",
   "metadata": {},
   "outputs": [
    {
     "name": "stdout",
     "output_type": "stream",
     "text": [
      "              precision    recall  f1-score   support\n",
      "\n",
      "           0       0.92      0.97      0.95     27933\n",
      "           1       0.67      0.38      0.48      3702\n",
      "\n",
      "    accuracy                           0.91     31635\n",
      "   macro avg       0.79      0.68      0.72     31635\n",
      "weighted avg       0.89      0.91      0.89     31635\n",
      "\n"
     ]
    }
   ],
   "source": [
    "from sklearn.metrics import classification_report\n",
    "print(classification_report(y_train_enc, train_prediction))"
   ]
  },
  {
   "cell_type": "code",
   "execution_count": 430,
   "id": "5de0e086",
   "metadata": {},
   "outputs": [
    {
     "name": "stdout",
     "output_type": "stream",
     "text": [
      "              precision    recall  f1-score   support\n",
      "\n",
      "           0       0.92      0.97      0.95     11972\n",
      "           1       0.63      0.36      0.46      1587\n",
      "\n",
      "    accuracy                           0.90     13559\n",
      "   macro avg       0.78      0.66      0.70     13559\n",
      "weighted avg       0.89      0.90      0.89     13559\n",
      "\n"
     ]
    }
   ],
   "source": [
    "print(classification_report(y_test_enc, test_prediction))"
   ]
  },
  {
   "cell_type": "markdown",
   "id": "bcb9d898",
   "metadata": {},
   "source": [
    "**Performance on class 1 is bad. We will try to upsample it by SMOTE**"
   ]
  },
  {
   "cell_type": "markdown",
   "id": "4d915df6",
   "metadata": {},
   "source": [
    "**Checking Feature Importance**"
   ]
  },
  {
   "cell_type": "code",
   "execution_count": 431,
   "id": "849ba536",
   "metadata": {},
   "outputs": [],
   "source": [
    "importance = model.coef_[0]"
   ]
  },
  {
   "cell_type": "code",
   "execution_count": 453,
   "id": "5aa7744c",
   "metadata": {},
   "outputs": [
    {
     "data": {
      "image/png": "[encoded data removed]",
      "text/plain": [
       "<Figure size 1800x576 with 1 Axes>"
      ]
     },
     "metadata": {
      "needs_background": "light"
     },
     "output_type": "display_data"
    }
   ],
   "source": [
    "fig, ax = plt.subplots(figsize = (25,8))\n",
    "sns.barplot(x = input_dims, y = importance, ax = ax)\n",
    "plt.xticks(rotation=75)\n",
    "plt.show()"
   ]
  },
  {
   "cell_type": "markdown",
   "id": "bea0b93f",
   "metadata": {},
   "source": [
    "# Oversampling minority class"
   ]
  },
  {
   "cell_type": "code",
   "execution_count": 456,
   "id": "04a0ad12",
   "metadata": {},
   "outputs": [],
   "source": [
    "from imblearn.over_sampling import SMOTE"
   ]
  },
  {
   "cell_type": "code",
   "execution_count": 461,
   "id": "4cbc0e02",
   "metadata": {},
   "outputs": [
    {
     "data": {
      "text/plain": [
       "<31635x67 sparse matrix of type '<class 'numpy.float64'>'\n",
       "\twith 311425 stored elements in COOrdinate format>"
      ]
     },
     "execution_count": 461,
     "metadata": {},
     "output_type": "execute_result"
    }
   ],
   "source": [
    "X_train_final"
   ]
  },
  {
   "cell_type": "code",
   "execution_count": 463,
   "id": "aedcc691",
   "metadata": {},
   "outputs": [],
   "source": [
    "oversample = SMOTE()\n",
    "X_train_final_sm, y_train_enc_sm = oversample.fit_resample(X_train_final, y_train_enc)"
   ]
  },
  {
   "cell_type": "code",
   "execution_count": 466,
   "id": "8d88eec3",
   "metadata": {},
   "outputs": [],
   "source": [
    "# define model\n",
    "model = LogisticRegression()\n",
    "# define evaluation\n",
    "cv = RepeatedStratifiedKFold(n_splits=10, n_repeats=3, random_state=1)\n",
    "# define search space\n",
    "space = dict()\n",
    "space['solver'] = ['newton-cg', 'lbfgs', 'liblinear']\n",
    "space['penalty'] = ['l1', 'l2', 'elasticnet']\n",
    "space['C'] = [1e-5, 1e-4, 1e-3, 1e-2, 1e-1, 1, 10, 100]\n",
    "# define search\n",
    "search = GridSearchCV(model, space, scoring='f1_weighted', n_jobs=-1, cv=cv)"
   ]
  },
  {
   "cell_type": "code",
   "execution_count": 467,
   "id": "fd914edf",
   "metadata": {},
   "outputs": [
    {
     "name": "stderr",
     "output_type": "stream",
     "text": [
      "C:\\Users\\anike\\.conda\\envs\\tf_test\\lib\\site-packages\\sklearn\\model_selection\\_search.py:925: UserWarning: One or more of the test scores are non-finite: [       nan        nan 0.33333334 0.75163719 0.75160739 0.75989846\n",
      "        nan        nan        nan        nan        nan 0.72921321\n",
      " 0.80294373 0.80293179 0.80317076        nan        nan        nan\n",
      "        nan        nan 0.80028208 0.82727643 0.8272698  0.82718463\n",
      "        nan        nan        nan        nan        nan 0.83946334\n",
      " 0.84383527 0.84382931 0.84384103        nan        nan        nan\n",
      "        nan        nan 0.84777322 0.84792103 0.84784982 0.84790923\n",
      "        nan        nan        nan        nan        nan 0.8482704\n",
      " 0.84815689 0.8482041  0.84813895        nan        nan        nan\n",
      "        nan        nan 0.84821668 0.84817484 0.8479845  0.84818682\n",
      "        nan        nan        nan        nan        nan 0.84816888\n",
      " 0.84816888 0.84801941 0.84816888        nan        nan        nan]\n",
      "  category=UserWarning\n"
     ]
    }
   ],
   "source": [
    "# execute search\n",
    "result = search.fit(X_train_final_sm, y_train_enc_sm)"
   ]
  },
  {
   "cell_type": "code",
   "execution_count": 468,
   "id": "0e0a31a4",
   "metadata": {},
   "outputs": [
    {
     "name": "stdout",
     "output_type": "stream",
     "text": [
      "Best f1-Score: 0.8482703957737757\n",
      "Best Hyperparameters: {'C': 1, 'penalty': 'l1', 'solver': 'liblinear'}\n"
     ]
    }
   ],
   "source": [
    "# summarize result\n",
    "print('Best f1-Score: %s' % result.best_score_)\n",
    "print('Best Hyperparameters: %s' % result.best_params_)"
   ]
  },
  {
   "cell_type": "code",
   "execution_count": 469,
   "id": "ff53606e",
   "metadata": {},
   "outputs": [
    {
     "data": {
      "text/plain": [
       "LogisticRegression(C=1, penalty='l1', solver='liblinear')"
      ]
     },
     "execution_count": 469,
     "metadata": {},
     "output_type": "execute_result"
    }
   ],
   "source": [
    "result.best_estimator_"
   ]
  },
  {
   "cell_type": "code",
   "execution_count": 470,
   "id": "f5a3987f",
   "metadata": {},
   "outputs": [
    {
     "data": {
      "text/plain": [
       "LogisticRegression(C=1, penalty='l1', solver='liblinear')"
      ]
     },
     "execution_count": 470,
     "metadata": {},
     "output_type": "execute_result"
    }
   ],
   "source": [
    "model = result.best_estimator_\n",
    "model.fit(X_train_final, y_train_enc)"
   ]
  },
  {
   "cell_type": "code",
   "execution_count": 471,
   "id": "588c33a6",
   "metadata": {},
   "outputs": [],
   "source": [
    "train_prediction = model.predict(X_train_final_sm)\n",
    "test_prediction = model.predict(X_test_final)"
   ]
  },
  {
   "cell_type": "code",
   "execution_count": 472,
   "id": "7a9f468f",
   "metadata": {},
   "outputs": [
    {
     "name": "stdout",
     "output_type": "stream",
     "text": [
      "              precision    recall  f1-score   support\n",
      "\n",
      "           0       0.60      0.98      0.75     27933\n",
      "           1       0.94      0.36      0.52     27933\n",
      "\n",
      "    accuracy                           0.67     55866\n",
      "   macro avg       0.77      0.67      0.63     55866\n",
      "weighted avg       0.77      0.67      0.63     55866\n",
      "\n"
     ]
    }
   ],
   "source": [
    "from sklearn.metrics import classification_report\n",
    "print(classification_report(y_train_enc_sm, train_prediction))"
   ]
  },
  {
   "cell_type": "code",
   "execution_count": 473,
   "id": "11a625e9",
   "metadata": {},
   "outputs": [
    {
     "name": "stdout",
     "output_type": "stream",
     "text": [
      "              precision    recall  f1-score   support\n",
      "\n",
      "           0       0.92      0.97      0.94     11972\n",
      "           1       0.63      0.35      0.45      1587\n",
      "\n",
      "    accuracy                           0.90     13559\n",
      "   macro avg       0.77      0.66      0.70     13559\n",
      "weighted avg       0.89      0.90      0.89     13559\n",
      "\n"
     ]
    }
   ],
   "source": [
    "print(classification_report(y_test_enc, test_prediction))"
   ]
  },
  {
   "cell_type": "markdown",
   "id": "a67803ce",
   "metadata": {},
   "source": [
    "**There is improvement in performance after SMOTE**"
   ]
  },
  {
   "cell_type": "markdown",
   "id": "54183aaf",
   "metadata": {},
   "source": [
    "**Checking Feature Importance**"
   ]
  },
  {
   "cell_type": "code",
   "execution_count": 475,
   "id": "9d175b5a",
   "metadata": {},
   "outputs": [
    {
     "data": {
      "image/png": "[encoded data removed]",
      "text/plain": [
       "<Figure size 1800x576 with 1 Axes>"
      ]
     },
     "metadata": {
      "needs_background": "light"
     },
     "output_type": "display_data"
    }
   ],
   "source": [
    "importance = model.coef_[0]\n",
    "fig, ax = plt.subplots(figsize = (25,8))\n",
    "sns.barplot(x = input_dims, y = importance, ax = ax)\n",
    "plt.xticks(rotation=75)\n",
    "plt.show()"
   ]
  },
  {
   "cell_type": "code",
   "execution_count": null,
   "id": "f3f1ca5d",
   "metadata": {},
   "outputs": [],
   "source": []
  }
 ],
 "metadata": {
  "kernelspec": {
   "display_name": "tf_test",
   "language": "python",
   "name": "tf_test"
  },
  "language_info": {
   "codemirror_mode": {
    "name": "ipython",
    "version": 3
   },
   "file_extension": ".py",
   "mimetype": "text/x-python",
   "name": "python",
   "nbconvert_exporter": "python",
   "pygments_lexer": "ipython3",
   "version": "3.6.13"
  }
 },
 "nbformat": 4,
 "nbformat_minor": 5
}
