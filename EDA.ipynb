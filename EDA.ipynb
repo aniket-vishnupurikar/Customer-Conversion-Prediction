{
 "cells": [
  {
   "cell_type": "code",
   "execution_count": 11,
   "id": "e25202d0",
   "metadata": {},
   "outputs": [],
   "source": [
    "import numpy as np\n",
    "import pandas as pd\n",
    "import matplotlib.pyplot as plt\n",
    "import seaborn as sns\n",
    "%matplotlib inline"
   ]
  },
  {
   "cell_type": "code",
   "execution_count": 12,
   "id": "101aa415",
   "metadata": {},
   "outputs": [],
   "source": [
    "df = pd.read_csv(\"train.csv\")"
   ]
  },
  {
   "cell_type": "code",
   "execution_count": 13,
   "id": "7692cd0d",
   "metadata": {},
   "outputs": [
    {
     "data": {
      "text/html": [
       "<div>\n",
       "<style scoped>\n",
       "    .dataframe tbody tr th:only-of-type {\n",
       "        vertical-align: middle;\n",
       "    }\n",
       "\n",
       "    .dataframe tbody tr th {\n",
       "        vertical-align: top;\n",
       "    }\n",
       "\n",
       "    .dataframe thead th {\n",
       "        text-align: right;\n",
       "    }\n",
       "</style>\n",
       "<table border=\"1\" class=\"dataframe\">\n",
       "  <thead>\n",
       "    <tr style=\"text-align: right;\">\n",
       "      <th></th>\n",
       "      <th>age</th>\n",
       "      <th>job</th>\n",
       "      <th>marital</th>\n",
       "      <th>education_qual</th>\n",
       "      <th>call_type</th>\n",
       "      <th>day</th>\n",
       "      <th>mon</th>\n",
       "      <th>dur</th>\n",
       "      <th>num_calls</th>\n",
       "      <th>prev_outcome</th>\n",
       "      <th>y</th>\n",
       "    </tr>\n",
       "  </thead>\n",
       "  <tbody>\n",
       "    <tr>\n",
       "      <th>0</th>\n",
       "      <td>58</td>\n",
       "      <td>management</td>\n",
       "      <td>married</td>\n",
       "      <td>tertiary</td>\n",
       "      <td>unknown</td>\n",
       "      <td>5</td>\n",
       "      <td>may</td>\n",
       "      <td>261</td>\n",
       "      <td>1</td>\n",
       "      <td>unknown</td>\n",
       "      <td>no</td>\n",
       "    </tr>\n",
       "    <tr>\n",
       "      <th>1</th>\n",
       "      <td>44</td>\n",
       "      <td>technician</td>\n",
       "      <td>single</td>\n",
       "      <td>secondary</td>\n",
       "      <td>unknown</td>\n",
       "      <td>5</td>\n",
       "      <td>may</td>\n",
       "      <td>151</td>\n",
       "      <td>1</td>\n",
       "      <td>unknown</td>\n",
       "      <td>no</td>\n",
       "    </tr>\n",
       "    <tr>\n",
       "      <th>2</th>\n",
       "      <td>33</td>\n",
       "      <td>entrepreneur</td>\n",
       "      <td>married</td>\n",
       "      <td>secondary</td>\n",
       "      <td>unknown</td>\n",
       "      <td>5</td>\n",
       "      <td>may</td>\n",
       "      <td>76</td>\n",
       "      <td>1</td>\n",
       "      <td>unknown</td>\n",
       "      <td>no</td>\n",
       "    </tr>\n",
       "    <tr>\n",
       "      <th>3</th>\n",
       "      <td>47</td>\n",
       "      <td>blue-collar</td>\n",
       "      <td>married</td>\n",
       "      <td>unknown</td>\n",
       "      <td>unknown</td>\n",
       "      <td>5</td>\n",
       "      <td>may</td>\n",
       "      <td>92</td>\n",
       "      <td>1</td>\n",
       "      <td>unknown</td>\n",
       "      <td>no</td>\n",
       "    </tr>\n",
       "    <tr>\n",
       "      <th>4</th>\n",
       "      <td>33</td>\n",
       "      <td>unknown</td>\n",
       "      <td>single</td>\n",
       "      <td>unknown</td>\n",
       "      <td>unknown</td>\n",
       "      <td>5</td>\n",
       "      <td>may</td>\n",
       "      <td>198</td>\n",
       "      <td>1</td>\n",
       "      <td>unknown</td>\n",
       "      <td>no</td>\n",
       "    </tr>\n",
       "  </tbody>\n",
       "</table>\n",
       "</div>"
      ],
      "text/plain": [
       "   age           job  marital education_qual call_type  day  mon  dur  \\\n",
       "0   58    management  married       tertiary   unknown    5  may  261   \n",
       "1   44    technician   single      secondary   unknown    5  may  151   \n",
       "2   33  entrepreneur  married      secondary   unknown    5  may   76   \n",
       "3   47   blue-collar  married        unknown   unknown    5  may   92   \n",
       "4   33       unknown   single        unknown   unknown    5  may  198   \n",
       "\n",
       "   num_calls prev_outcome   y  \n",
       "0          1      unknown  no  \n",
       "1          1      unknown  no  \n",
       "2          1      unknown  no  \n",
       "3          1      unknown  no  \n",
       "4          1      unknown  no  "
      ]
     },
     "execution_count": 13,
     "metadata": {},
     "output_type": "execute_result"
    }
   ],
   "source": [
    "df.head()"
   ]
  },
  {
   "cell_type": "code",
   "execution_count": 14,
   "id": "5d6c1366",
   "metadata": {},
   "outputs": [
    {
     "data": {
      "text/plain": [
       "age               0\n",
       "job               0\n",
       "marital           0\n",
       "education_qual    0\n",
       "call_type         0\n",
       "day               0\n",
       "mon               0\n",
       "dur               0\n",
       "num_calls         0\n",
       "prev_outcome      0\n",
       "y                 0\n",
       "dtype: int64"
      ]
     },
     "execution_count": 14,
     "metadata": {},
     "output_type": "execute_result"
    }
   ],
   "source": [
    "df.isnull().sum()"
   ]
  },
  {
   "cell_type": "code",
   "execution_count": 15,
   "id": "0d1af396",
   "metadata": {},
   "outputs": [
    {
     "name": "stdout",
     "output_type": "stream",
     "text": [
      "<class 'pandas.core.frame.DataFrame'>\n",
      "RangeIndex: 45211 entries, 0 to 45210\n",
      "Data columns (total 11 columns):\n",
      " #   Column          Non-Null Count  Dtype \n",
      "---  ------          --------------  ----- \n",
      " 0   age             45211 non-null  int64 \n",
      " 1   job             45211 non-null  object\n",
      " 2   marital         45211 non-null  object\n",
      " 3   education_qual  45211 non-null  object\n",
      " 4   call_type       45211 non-null  object\n",
      " 5   day             45211 non-null  int64 \n",
      " 6   mon             45211 non-null  object\n",
      " 7   dur             45211 non-null  int64 \n",
      " 8   num_calls       45211 non-null  int64 \n",
      " 9   prev_outcome    45211 non-null  object\n",
      " 10  y               45211 non-null  object\n",
      "dtypes: int64(4), object(7)\n",
      "memory usage: 3.8+ MB\n"
     ]
    }
   ],
   "source": [
    "df.info()"
   ]
  },
  {
   "cell_type": "markdown",
   "id": "1043eab0",
   "metadata": {},
   "source": [
    "# Univariate"
   ]
  },
  {
   "cell_type": "code",
   "execution_count": 16,
   "id": "60c2dfbe",
   "metadata": {},
   "outputs": [
    {
     "name": "stderr",
     "output_type": "stream",
     "text": [
      "C:\\Users\\anike\\.conda\\envs\\tf_test\\lib\\site-packages\\seaborn\\distributions.py:2619: FutureWarning: `distplot` is a deprecated function and will be removed in a future version. Please adapt your code to use either `displot` (a figure-level function with similar flexibility) or `histplot` (an axes-level function for histograms).\n",
      "  warnings.warn(msg, FutureWarning)\n"
     ]
    },
    {
     "data": {
      "image/png": "[encoded data removed]",
      "text/plain": [
       "<Figure size 432x288 with 1 Axes>"
      ]
     },
     "metadata": {
      "needs_background": "light"
     },
     "output_type": "display_data"
    }
   ],
   "source": [
    "fig, ax = plt.subplots()\n",
    "sns.distplot(df[\"age\"], ax = ax)\n",
    "plt.show()"
   ]
  },
  {
   "cell_type": "code",
   "execution_count": 17,
   "id": "2793f123",
   "metadata": {},
   "outputs": [
    {
     "data": {
      "image/png": "[encoded data removed]",
      "text/plain": [
       "<Figure size 432x288 with 1 Axes>"
      ]
     },
     "metadata": {
      "needs_background": "light"
     },
     "output_type": "display_data"
    }
   ],
   "source": [
    "x = df[\"job\"].value_counts().index\n",
    "y = df[\"job\"].value_counts().values\n",
    "fig, ax = plt.subplots()\n",
    "sns.barplot(x = x, y = y, ax = ax)\n",
    "plt.xticks(rotation=45)\n",
    "plt.show()"
   ]
  },
  {
   "cell_type": "code",
   "execution_count": 18,
   "id": "0f4470fc",
   "metadata": {},
   "outputs": [],
   "source": [
    "df[\"job\"] = df['job'].replace({'unknown': \"blue-collar\"})"
   ]
  },
  {
   "cell_type": "code",
   "execution_count": 19,
   "id": "d8c035c9",
   "metadata": {},
   "outputs": [
    {
     "data": {
      "image/png": "[encoded data removed]",
      "text/plain": [
       "<Figure size 432x288 with 1 Axes>"
      ]
     },
     "metadata": {
      "needs_background": "light"
     },
     "output_type": "display_data"
    }
   ],
   "source": [
    "x = df[\"job\"].value_counts().index\n",
    "y = df[\"job\"].value_counts().values\n",
    "fig, ax = plt.subplots()\n",
    "sns.barplot(x = x, y = y, ax = ax)\n",
    "plt.xticks(rotation=45)\n",
    "plt.show()"
   ]
  },
  {
   "cell_type": "code",
   "execution_count": 21,
   "id": "6858d6a1",
   "metadata": {},
   "outputs": [
    {
     "data": {
      "image/png": "[encoded data removed]",
      "text/plain": [
       "<Figure size 432x288 with 1 Axes>"
      ]
     },
     "metadata": {
      "needs_background": "light"
     },
     "output_type": "display_data"
    }
   ],
   "source": [
    "x = df[\"marital\"].value_counts().index\n",
    "y = df[\"marital\"].value_counts().values\n",
    "fig, ax = plt.subplots()\n",
    "sns.barplot(x = x, y = y, ax = ax)\n",
    "plt.xticks(rotation=45)\n",
    "plt.show()"
   ]
  },
  {
   "cell_type": "code",
   "execution_count": 22,
   "id": "a8e0d814",
   "metadata": {},
   "outputs": [
    {
     "data": {
      "image/png": "[encoded data removed]",
      "text/plain": [
       "<Figure size 432x288 with 1 Axes>"
      ]
     },
     "metadata": {
      "needs_background": "light"
     },
     "output_type": "display_data"
    }
   ],
   "source": [
    "x = df[\"education_qual\"].value_counts().index\n",
    "y = df[\"education_qual\"].value_counts().values\n",
    "fig, ax = plt.subplots()\n",
    "sns.barplot(x = x, y = y, ax = ax)\n",
    "plt.xticks(rotation=45)\n",
    "plt.show()"
   ]
  },
  {
   "cell_type": "code",
   "execution_count": 23,
   "id": "69b8b50a",
   "metadata": {},
   "outputs": [],
   "source": [
    "df[\"education_qual\"] = df['education_qual'].replace({'unknown': \"secondary\"})"
   ]
  },
  {
   "cell_type": "code",
   "execution_count": 24,
   "id": "9a5e2e94",
   "metadata": {},
   "outputs": [
    {
     "data": {
      "image/png": "[encoded data removed]",
      "text/plain": [
       "<Figure size 432x288 with 1 Axes>"
      ]
     },
     "metadata": {
      "needs_background": "light"
     },
     "output_type": "display_data"
    }
   ],
   "source": [
    "x = df[\"education_qual\"].value_counts().index\n",
    "y = df[\"education_qual\"].value_counts().values\n",
    "fig, ax = plt.subplots()\n",
    "sns.barplot(x = x, y = y, ax = ax)\n",
    "plt.xticks(rotation=45)\n",
    "plt.show()"
   ]
  },
  {
   "cell_type": "code",
   "execution_count": 25,
   "id": "80f1c44a",
   "metadata": {},
   "outputs": [
    {
     "data": {
      "image/png": "[encoded data removed]",
      "text/plain": [
       "<Figure size 432x288 with 1 Axes>"
      ]
     },
     "metadata": {
      "needs_background": "light"
     },
     "output_type": "display_data"
    }
   ],
   "source": [
    "x = df[\"call_type\"].value_counts().index\n",
    "y = df[\"call_type\"].value_counts().values\n",
    "fig, ax = plt.subplots()\n",
    "sns.barplot(x = x, y = y, ax = ax)\n",
    "plt.xticks(rotation=45)\n",
    "plt.show()"
   ]
  },
  {
   "cell_type": "code",
   "execution_count": 26,
   "id": "b8f8b8d6",
   "metadata": {},
   "outputs": [
    {
     "data": {
      "image/png": "[encoded data removed]",
      "text/plain": [
       "<Figure size 432x288 with 1 Axes>"
      ]
     },
     "metadata": {
      "needs_background": "light"
     },
     "output_type": "display_data"
    }
   ],
   "source": [
    "x = df[\"day\"].value_counts().index\n",
    "y = df[\"day\"].value_counts().values\n",
    "fig, ax = plt.subplots()\n",
    "sns.barplot(x = x, y = y, ax = ax)\n",
    "plt.xticks(rotation=45)\n",
    "plt.show()"
   ]
  },
  {
   "cell_type": "code",
   "execution_count": 27,
   "id": "c20af87a",
   "metadata": {},
   "outputs": [
    {
     "data": {
      "image/png": "[encoded data removed]",
      "text/plain": [
       "<Figure size 432x288 with 1 Axes>"
      ]
     },
     "metadata": {
      "needs_background": "light"
     },
     "output_type": "display_data"
    }
   ],
   "source": [
    "x = df[\"mon\"].value_counts().index\n",
    "y = df[\"mon\"].value_counts().values\n",
    "fig, ax = plt.subplots()\n",
    "sns.barplot(x = x, y = y, ax = ax)\n",
    "plt.xticks(rotation=45)\n",
    "plt.show()"
   ]
  },
  {
   "cell_type": "code",
   "execution_count": 28,
   "id": "e797e931",
   "metadata": {},
   "outputs": [
    {
     "name": "stderr",
     "output_type": "stream",
     "text": [
      "C:\\Users\\anike\\.conda\\envs\\tf_test\\lib\\site-packages\\seaborn\\distributions.py:2619: FutureWarning: `distplot` is a deprecated function and will be removed in a future version. Please adapt your code to use either `displot` (a figure-level function with similar flexibility) or `histplot` (an axes-level function for histograms).\n",
      "  warnings.warn(msg, FutureWarning)\n"
     ]
    },
    {
     "data": {
      "image/png": "[encoded data removed]",
      "text/plain": [
       "<Figure size 432x288 with 1 Axes>"
      ]
     },
     "metadata": {
      "needs_background": "light"
     },
     "output_type": "display_data"
    }
   ],
   "source": [
    "fig, ax = plt.subplots()\n",
    "sns.distplot(df[\"dur\"], ax = ax)\n",
    "plt.show()"
   ]
  },
  {
   "cell_type": "code",
   "execution_count": 29,
   "id": "425d8028",
   "metadata": {},
   "outputs": [],
   "source": [
    "#remove negative duration\n",
    "df = df[df['dur']>0]"
   ]
  },
  {
   "cell_type": "code",
   "execution_count": 30,
   "id": "78b7eb14",
   "metadata": {},
   "outputs": [
    {
     "name": "stderr",
     "output_type": "stream",
     "text": [
      "C:\\Users\\anike\\.conda\\envs\\tf_test\\lib\\site-packages\\seaborn\\distributions.py:2619: FutureWarning: `distplot` is a deprecated function and will be removed in a future version. Please adapt your code to use either `displot` (a figure-level function with similar flexibility) or `histplot` (an axes-level function for histograms).\n",
      "  warnings.warn(msg, FutureWarning)\n"
     ]
    },
    {
     "data": {
      "image/png": "[encoded data removed]",
      "text/plain": [
       "<Figure size 432x288 with 1 Axes>"
      ]
     },
     "metadata": {
      "needs_background": "light"
     },
     "output_type": "display_data"
    }
   ],
   "source": [
    "#take box cox transform of dur\n",
    "from sklearn.preprocessing import power_transform\n",
    "dur_box_cox = power_transform(df[\"dur\"].values.reshape(-1,1), method='box-cox')\n",
    "fig, ax = plt.subplots()\n",
    "sns.distplot(dur_box_cox, ax = ax)\n",
    "plt.show()"
   ]
  },
  {
   "cell_type": "code",
   "execution_count": 31,
   "id": "ce6cba5a",
   "metadata": {},
   "outputs": [],
   "source": [
    "#df[\"dur_box_cox\"] = dur_box_cox"
   ]
  },
  {
   "cell_type": "code",
   "execution_count": 32,
   "id": "b3409518",
   "metadata": {},
   "outputs": [
    {
     "data": {
      "image/png": "[encoded data removed]",
      "text/plain": [
       "<Figure size 432x288 with 1 Axes>"
      ]
     },
     "metadata": {
      "needs_background": "light"
     },
     "output_type": "display_data"
    }
   ],
   "source": [
    "x = df[\"num_calls\"].value_counts().index\n",
    "y = df[\"num_calls\"].value_counts().values\n",
    "fig, ax = plt.subplots()\n",
    "sns.barplot(x = x, y = y, ax = ax)\n",
    "plt.xticks(rotation=45)\n",
    "plt.show()"
   ]
  },
  {
   "cell_type": "code",
   "execution_count": 33,
   "id": "31a340cb",
   "metadata": {},
   "outputs": [
    {
     "name": "stderr",
     "output_type": "stream",
     "text": [
      "C:\\Users\\anike\\.conda\\envs\\tf_test\\lib\\site-packages\\seaborn\\distributions.py:2619: FutureWarning: `distplot` is a deprecated function and will be removed in a future version. Please adapt your code to use either `displot` (a figure-level function with similar flexibility) or `histplot` (an axes-level function for histograms).\n",
      "  warnings.warn(msg, FutureWarning)\n"
     ]
    },
    {
     "data": {
      "image/png": "[encoded data removed]",
      "text/plain": [
       "<Figure size 432x288 with 1 Axes>"
      ]
     },
     "metadata": {
      "needs_background": "light"
     },
     "output_type": "display_data"
    }
   ],
   "source": [
    "fig, ax = plt.subplots()\n",
    "sns.distplot(df[\"num_calls\"], ax = ax)\n",
    "plt.show()"
   ]
  },
  {
   "cell_type": "code",
   "execution_count": 34,
   "id": "85d6c1b3",
   "metadata": {},
   "outputs": [
    {
     "name": "stderr",
     "output_type": "stream",
     "text": [
      "C:\\Users\\anike\\.conda\\envs\\tf_test\\lib\\site-packages\\seaborn\\distributions.py:2619: FutureWarning: `distplot` is a deprecated function and will be removed in a future version. Please adapt your code to use either `displot` (a figure-level function with similar flexibility) or `histplot` (an axes-level function for histograms).\n",
      "  warnings.warn(msg, FutureWarning)\n"
     ]
    },
    {
     "data": {
      "image/png": "[encoded data removed]",
      "text/plain": [
       "<Figure size 432x288 with 1 Axes>"
      ]
     },
     "metadata": {
      "needs_background": "light"
     },
     "output_type": "display_data"
    }
   ],
   "source": [
    "#take box cox transform of dur\n",
    "from sklearn.preprocessing import power_transform\n",
    "calls_box_cox = power_transform(df[\"num_calls\"].values.reshape(-1,1), method='box-cox')\n",
    "fig, ax = plt.subplots()\n",
    "sns.distplot(calls_box_cox, ax = ax)\n",
    "plt.show()"
   ]
  },
  {
   "cell_type": "code",
   "execution_count": 35,
   "id": "1b2526bd",
   "metadata": {},
   "outputs": [],
   "source": [
    "def return_outlier_mask(ser):\n",
    "    \"\"\"returns a mask to filter out outliers based on a series\"\"\"\n",
    "    percentile25 = ser.quantile(0.25)\n",
    "    percentile90 = ser.quantile(0.99)\n",
    "    iqr = percentile90 - percentile25\n",
    "    upper_limit = percentile90 + 1.5 * iqr\n",
    "    lower_limit = percentile25 - 1.5 * iqr\n",
    "    mask = (ser < upper_limit) & (ser > lower_limit)\n",
    "    return mask\n",
    "    "
   ]
  },
  {
   "cell_type": "code",
   "execution_count": 36,
   "id": "0dacccee",
   "metadata": {},
   "outputs": [],
   "source": [
    "calls_mask = return_outlier_mask(df[\"num_calls\"])"
   ]
  },
  {
   "cell_type": "code",
   "execution_count": 37,
   "id": "ae9b1be1",
   "metadata": {},
   "outputs": [],
   "source": [
    "calls_no_outliers = df[\"num_calls\"][calls_mask]"
   ]
  },
  {
   "cell_type": "code",
   "execution_count": 38,
   "id": "041f88af",
   "metadata": {},
   "outputs": [
    {
     "name": "stdout",
     "output_type": "stream",
     "text": [
      "Data left after removing outliers from num_calls:99.96903202972925 %\n"
     ]
    }
   ],
   "source": [
    "print(f\"Data left after removing outliers from num_calls:{calls_no_outliers.shape[0]/df.shape[0]*100} %\")"
   ]
  },
  {
   "cell_type": "code",
   "execution_count": 39,
   "id": "20655248",
   "metadata": {},
   "outputs": [
    {
     "name": "stderr",
     "output_type": "stream",
     "text": [
      "C:\\Users\\anike\\.conda\\envs\\tf_test\\lib\\site-packages\\seaborn\\distributions.py:2619: FutureWarning: `distplot` is a deprecated function and will be removed in a future version. Please adapt your code to use either `displot` (a figure-level function with similar flexibility) or `histplot` (an axes-level function for histograms).\n",
      "  warnings.warn(msg, FutureWarning)\n"
     ]
    },
    {
     "data": {
      "image/png": "[encoded data removed]",
      "text/plain": [
       "<Figure size 432x288 with 1 Axes>"
      ]
     },
     "metadata": {
      "needs_background": "light"
     },
     "output_type": "display_data"
    }
   ],
   "source": [
    "fig, ax = plt.subplots()\n",
    "sns.distplot(calls_no_outliers, ax = ax)\n",
    "plt.show()"
   ]
  },
  {
   "cell_type": "markdown",
   "id": "5d5c9bf7",
   "metadata": {},
   "source": [
    "Removing outliers from num_calls"
   ]
  },
  {
   "cell_type": "code",
   "execution_count": 40,
   "id": "42021b63",
   "metadata": {},
   "outputs": [],
   "source": [
    "df = df[calls_mask]"
   ]
  },
  {
   "cell_type": "code",
   "execution_count": 41,
   "id": "f6c183e6",
   "metadata": {},
   "outputs": [
    {
     "data": {
      "image/png": "[encoded data removed]",
      "text/plain": [
       "<Figure size 432x288 with 1 Axes>"
      ]
     },
     "metadata": {
      "needs_background": "light"
     },
     "output_type": "display_data"
    }
   ],
   "source": [
    "x = df[\"prev_outcome\"].value_counts().index\n",
    "y = df[\"prev_outcome\"].value_counts().values\n",
    "fig, ax = plt.subplots()\n",
    "sns.barplot(x = x, y = y, ax = ax)\n",
    "plt.xticks(rotation=45)\n",
    "plt.show()"
   ]
  },
  {
   "cell_type": "code",
   "execution_count": 42,
   "id": "382e9467",
   "metadata": {},
   "outputs": [
    {
     "data": {
      "image/png": "[encoded data removed]",
      "text/plain": [
       "<Figure size 432x288 with 1 Axes>"
      ]
     },
     "metadata": {
      "needs_background": "light"
     },
     "output_type": "display_data"
    }
   ],
   "source": [
    "x = df[\"y\"].value_counts().index\n",
    "y = df[\"y\"].value_counts().values\n",
    "fig, ax = plt.subplots()\n",
    "sns.barplot(x = x, y = y, ax = ax)\n",
    "plt.xticks(rotation=45)\n",
    "plt.show()"
   ]
  },
  {
   "cell_type": "code",
   "execution_count": 43,
   "id": "cec4283f",
   "metadata": {},
   "outputs": [
    {
     "name": "stdout",
     "output_type": "stream",
     "text": [
      "perc. of 'no' class data:88.3\n",
      "perc. of 'yes' class data:11.7\n"
     ]
    }
   ],
   "source": [
    "no_perc = round(df[df['y'] == \"no\"].shape[0]/df.shape[0]*100,2)\n",
    "print(f\"perc. of 'no' class data:{no_perc}\")\n",
    "print(f\"perc. of 'yes' class data:{round(100-no_perc,2)}\")"
   ]
  },
  {
   "cell_type": "markdown",
   "id": "126ff332",
   "metadata": {},
   "source": [
    "# Bivariate"
   ]
  },
  {
   "cell_type": "code",
   "execution_count": 44,
   "id": "dba305d8",
   "metadata": {},
   "outputs": [
    {
     "data": {
      "text/plain": [
       "Index(['age', 'job', 'marital', 'education_qual', 'call_type', 'day', 'mon',\n",
       "       'dur', 'num_calls', 'prev_outcome', 'y'],\n",
       "      dtype='object')"
      ]
     },
     "execution_count": 44,
     "metadata": {},
     "output_type": "execute_result"
    }
   ],
   "source": [
    "df.columns"
   ]
  },
  {
   "cell_type": "code",
   "execution_count": null,
   "id": "5aaaef8f",
   "metadata": {},
   "outputs": [],
   "source": []
  },
  {
   "cell_type": "code",
   "execution_count": 45,
   "id": "c2a8e23c",
   "metadata": {},
   "outputs": [
    {
     "data": {
      "text/plain": [
       "<AxesSubplot:xlabel='y', ylabel='age'>"
      ]
     },
     "execution_count": 45,
     "metadata": {},
     "output_type": "execute_result"
    },
    {
     "data": {
      "image/png": "[encoded data removed]",
      "text/plain": [
       "<Figure size 432x288 with 1 Axes>"
      ]
     },
     "metadata": {
      "needs_background": "light"
     },
     "output_type": "display_data"
    }
   ],
   "source": [
    "#age\n",
    "sns.barplot(x = df[\"y\"], y = df['age'], estimator = np.mean)"
   ]
  },
  {
   "cell_type": "code",
   "execution_count": 46,
   "id": "9ffc3657",
   "metadata": {},
   "outputs": [
    {
     "data": {
      "text/plain": [
       "<AxesSubplot:xlabel='y', ylabel='dur'>"
      ]
     },
     "execution_count": 46,
     "metadata": {},
     "output_type": "execute_result"
    },
    {
     "data": {
      "image/png": "[encoded data removed]",
      "text/plain": [
       "<Figure size 432x288 with 1 Axes>"
      ]
     },
     "metadata": {
      "needs_background": "light"
     },
     "output_type": "display_data"
    }
   ],
   "source": [
    "#dur\n",
    "sns.barplot(x = df[\"y\"], y = df['dur'], estimator = np.mean)"
   ]
  },
  {
   "cell_type": "code",
   "execution_count": 47,
   "id": "7352ee13",
   "metadata": {},
   "outputs": [
    {
     "name": "stdout",
     "output_type": "stream",
     "text": [
      "y                no   yes\n",
      "job                      \n",
      "admin.         4540   631\n",
      "blue-collar    9269   742\n",
      "entrepreneur   1363   123\n",
      "housemaid      1131   109\n",
      "management     8153  1301\n",
      "retired        1748   516\n",
      "self-employed  1392   187\n",
      "services       3785   369\n",
      "student         669   269\n",
      "technician     6754   840\n",
      "unemployed     1101   202\n"
     ]
    }
   ],
   "source": [
    "CrosstabResult=pd.crosstab(index=df['job'],columns=df['y'])\n",
    "print(CrosstabResult)"
   ]
  },
  {
   "cell_type": "code",
   "execution_count": 48,
   "id": "10348c3e",
   "metadata": {},
   "outputs": [
    {
     "data": {
      "image/png": "[encoded data removed]",
      "text/plain": [
       "<Figure size 504x288 with 1 Axes>"
      ]
     },
     "metadata": {
      "needs_background": "light"
     },
     "output_type": "display_data"
    }
   ],
   "source": [
    "CrosstabResult.plot.bar(figsize=(7,4), rot=0)\n",
    "plt.xticks(rotation=45)\n",
    "plt.show()"
   ]
  },
  {
   "cell_type": "code",
   "execution_count": 49,
   "id": "daf129ba",
   "metadata": {},
   "outputs": [
    {
     "name": "stdout",
     "output_type": "stream",
     "text": [
      "y            no   yes\n",
      "marital              \n",
      "divorced   4585   622\n",
      "married   24446  2755\n",
      "single    10874  1912\n"
     ]
    }
   ],
   "source": [
    "#marital\n",
    "CrosstabResult=pd.crosstab(index=df['marital'],columns=df['y'])\n",
    "print(CrosstabResult)"
   ]
  },
  {
   "cell_type": "code",
   "execution_count": 50,
   "id": "fbb68913",
   "metadata": {},
   "outputs": [
    {
     "data": {
      "image/png": "[encoded data removed]",
      "text/plain": [
       "<Figure size 504x288 with 1 Axes>"
      ]
     },
     "metadata": {
      "needs_background": "light"
     },
     "output_type": "display_data"
    }
   ],
   "source": [
    "CrosstabResult.plot.bar(figsize=(7,4), rot=0)\n",
    "plt.xticks(rotation=45)\n",
    "plt.show()"
   ]
  },
  {
   "cell_type": "code",
   "execution_count": 51,
   "id": "bf291773",
   "metadata": {},
   "outputs": [
    {
     "name": "stdout",
     "output_type": "stream",
     "text": [
      "y                  no   yes\n",
      "education_qual             \n",
      "primary          6256   591\n",
      "secondary       22346  2702\n",
      "tertiary        11303  1996\n"
     ]
    }
   ],
   "source": [
    "#education_qual\n",
    "CrosstabResult=pd.crosstab(index=df['education_qual'],columns=df['y'])\n",
    "print(CrosstabResult)"
   ]
  },
  {
   "cell_type": "code",
   "execution_count": 52,
   "id": "27823308",
   "metadata": {},
   "outputs": [
    {
     "data": {
      "image/png": "[encoded data removed]",
      "text/plain": [
       "<Figure size 504x288 with 1 Axes>"
      ]
     },
     "metadata": {
      "needs_background": "light"
     },
     "output_type": "display_data"
    }
   ],
   "source": [
    "CrosstabResult.plot.bar(figsize=(7,4), rot=0)\n",
    "plt.xticks(rotation=45)\n",
    "plt.show()"
   ]
  },
  {
   "cell_type": "markdown",
   "id": "58d7e251",
   "metadata": {},
   "source": [
    "primary>tertiary>secondary"
   ]
  },
  {
   "cell_type": "code",
   "execution_count": 54,
   "id": "6edd4a12",
   "metadata": {},
   "outputs": [
    {
     "name": "stdout",
     "output_type": "stream",
     "text": [
      "y             no   yes\n",
      "call_type             \n",
      "cellular   24910  4369\n",
      "telephone   2515   390\n",
      "unknown    12480   530\n"
     ]
    }
   ],
   "source": [
    "#call_type\n",
    "CrosstabResult=pd.crosstab(index=df['call_type'],columns=df['y'])\n",
    "print(CrosstabResult)"
   ]
  },
  {
   "cell_type": "code",
   "execution_count": 55,
   "id": "7f778077",
   "metadata": {},
   "outputs": [
    {
     "data": {
      "image/png": "[encoded data removed]",
      "text/plain": [
       "<Figure size 504x288 with 1 Axes>"
      ]
     },
     "metadata": {
      "needs_background": "light"
     },
     "output_type": "display_data"
    }
   ],
   "source": [
    "CrosstabResult.plot.bar(figsize=(7,4), rot=0)\n",
    "plt.xticks(rotation=45)\n",
    "plt.show()"
   ]
  },
  {
   "cell_type": "code",
   "execution_count": 56,
   "id": "a7cc468c",
   "metadata": {},
   "outputs": [
    {
     "name": "stdout",
     "output_type": "stream",
     "text": [
      "y      no  yes\n",
      "day           \n",
      "1     232   90\n",
      "2    1111  182\n",
      "3     901  178\n",
      "4    1215  230\n",
      "5    1695  215\n",
      "6    1751  181\n",
      "7    1660  157\n",
      "8    1641  201\n",
      "9    1381  179\n",
      "10    403  121\n",
      "11   1297  181\n",
      "12   1359  244\n",
      "13   1344  241\n",
      "14   1638  210\n",
      "15   1465  238\n",
      "16   1222  192\n",
      "17   1763  176\n",
      "18   2079  228\n",
      "19   1631  122\n",
      "20   2559  192\n",
      "21   1824  201\n",
      "22    751  154\n",
      "23    812  126\n",
      "24    385   62\n",
      "25    707  133\n",
      "26    918  116\n",
      "27    970  150\n",
      "28   1687  143\n",
      "29   1616  129\n",
      "30   1295  271\n",
      "31    593   46\n"
     ]
    }
   ],
   "source": [
    "#day\n",
    "CrosstabResult=pd.crosstab(index=df['day'],columns=df['y'])\n",
    "print(CrosstabResult)"
   ]
  },
  {
   "cell_type": "code",
   "execution_count": 57,
   "id": "7c6cf54d",
   "metadata": {},
   "outputs": [
    {
     "data": {
      "image/png": "[encoded data removed]",
      "text/plain": [
       "<Figure size 504x288 with 1 Axes>"
      ]
     },
     "metadata": {
      "needs_background": "light"
     },
     "output_type": "display_data"
    }
   ],
   "source": [
    "CrosstabResult.plot.bar(figsize=(7,4), rot=0)\n",
    "plt.xticks(rotation=45)\n",
    "plt.show()"
   ]
  },
  {
   "cell_type": "code",
   "execution_count": 58,
   "id": "e378dd6a",
   "metadata": {},
   "outputs": [
    {
     "name": "stdout",
     "output_type": "stream",
     "text": [
      "y       no  yes\n",
      "mon            \n",
      "apr   2355  577\n",
      "aug   5558  688\n",
      "dec    114  100\n",
      "feb   2208  441\n",
      "jan   1261  142\n",
      "jul   6263  627\n",
      "jun   4792  546\n",
      "mar    229  248\n",
      "may  12833  925\n",
      "nov   3567  403\n",
      "oct    415  323\n",
      "sep    310  269\n"
     ]
    }
   ],
   "source": [
    "#mon\n",
    "CrosstabResult=pd.crosstab(index=df['mon'],columns=df['y'])\n",
    "print(CrosstabResult)"
   ]
  },
  {
   "cell_type": "code",
   "execution_count": 59,
   "id": "6794132d",
   "metadata": {},
   "outputs": [
    {
     "data": {
      "image/png": "[encoded data removed]",
      "text/plain": [
       "<Figure size 504x288 with 1 Axes>"
      ]
     },
     "metadata": {
      "needs_background": "light"
     },
     "output_type": "display_data"
    }
   ],
   "source": [
    "CrosstabResult.plot.bar(figsize=(7,4), rot=0)\n",
    "plt.xticks(rotation=45)\n",
    "plt.show()"
   ]
  },
  {
   "cell_type": "code",
   "execution_count": 60,
   "id": "c5073c75",
   "metadata": {
    "scrolled": true
   },
   "outputs": [
    {
     "name": "stdout",
     "output_type": "stream",
     "text": [
      "y             no   yes\n",
      "num_calls             \n",
      "1          14983  2561\n",
      "2          11103  1401\n",
      "3           4903   618\n",
      "4           3204   317\n",
      "5           1625   139\n",
      "6           1199    92\n",
      "7            688    47\n",
      "8            508    32\n",
      "9            306    21\n",
      "10           252    14\n",
      "11           185    16\n",
      "12           151     4\n",
      "13           127     6\n",
      "14            89     4\n",
      "15            79     4\n",
      "16            77     2\n",
      "17            63     6\n",
      "18            51     0\n",
      "19            44     0\n",
      "20            42     1\n",
      "21            34     1\n",
      "22            23     0\n",
      "23            22     0\n",
      "24            19     1\n",
      "25            22     0\n",
      "26            13     0\n",
      "27            10     0\n",
      "28            16     0\n",
      "29            15     1\n",
      "30             8     0\n",
      "31            12     0\n",
      "32             8     1\n",
      "33             6     0\n",
      "34             5     0\n",
      "35             4     0\n",
      "36             4     0\n",
      "37             2     0\n",
      "38             3     0\n"
     ]
    }
   ],
   "source": [
    "#num_calls\n",
    "CrosstabResult=pd.crosstab(index=df['num_calls'],columns=df['y'])\n",
    "print(CrosstabResult)"
   ]
  },
  {
   "cell_type": "code",
   "execution_count": 61,
   "id": "223bb008",
   "metadata": {},
   "outputs": [
    {
     "data": {
      "image/png": "[encoded data removed]",
      "text/plain": [
       "<Figure size 504x288 with 1 Axes>"
      ]
     },
     "metadata": {
      "needs_background": "light"
     },
     "output_type": "display_data"
    }
   ],
   "source": [
    "CrosstabResult.plot.bar(figsize=(7,4), rot=0)\n",
    "plt.xticks(rotation=45)\n",
    "plt.show()"
   ]
  },
  {
   "cell_type": "code",
   "execution_count": 62,
   "id": "be86380c",
   "metadata": {},
   "outputs": [
    {
     "name": "stdout",
     "output_type": "stream",
     "text": [
      "y                no   yes\n",
      "prev_outcome             \n",
      "failure        4283   618\n",
      "other          1533   307\n",
      "success         533   978\n",
      "unknown       33556  3386\n"
     ]
    }
   ],
   "source": [
    "#prev_outcome\n",
    "CrosstabResult=pd.crosstab(index=df['prev_outcome'],columns=df['y'])\n",
    "print(CrosstabResult)"
   ]
  },
  {
   "cell_type": "code",
   "execution_count": 63,
   "id": "b9c7f284",
   "metadata": {},
   "outputs": [
    {
     "data": {
      "image/png": "[encoded data removed]",
      "text/plain": [
       "<Figure size 504x288 with 1 Axes>"
      ]
     },
     "metadata": {
      "needs_background": "light"
     },
     "output_type": "display_data"
    }
   ],
   "source": [
    "CrosstabResult.plot.bar(figsize=(7,4), rot=0)\n",
    "plt.xticks(rotation=45)\n",
    "plt.show()"
   ]
  },
  {
   "cell_type": "code",
   "execution_count": 64,
   "id": "e6bba49d",
   "metadata": {},
   "outputs": [
    {
     "data": {
      "text/plain": [
       "Index(['age', 'job', 'marital', 'education_qual', 'call_type', 'day', 'mon',\n",
       "       'dur', 'num_calls', 'prev_outcome', 'y'],\n",
       "      dtype='object')"
      ]
     },
     "execution_count": 64,
     "metadata": {},
     "output_type": "execute_result"
    }
   ],
   "source": [
    "df.columns"
   ]
  },
  {
   "cell_type": "markdown",
   "id": "c95c085f",
   "metadata": {},
   "source": [
    "- age:as it is\n",
    "- job:one hot\n",
    "- marital:label | divorced>single>married\n",
    "- education_qual:label | unknown>primary>tertiary>secondary\n",
    "- call_type:one hot\n",
    "- day: one hot\n",
    "- mon: one hot\n",
    "- dur: box cox\n",
    "- num_calls:as it is\n",
    "- prev_outcome: one-hot\n"
   ]
  },
  {
   "cell_type": "markdown",
   "id": "9061e837",
   "metadata": {},
   "source": [
    "# Splitting"
   ]
  },
  {
   "cell_type": "code",
   "execution_count": 65,
   "id": "92b9cbd7",
   "metadata": {},
   "outputs": [],
   "source": [
    "X = df.drop([\"y\"], axis = 1)\n",
    "y = df[\"y\"]"
   ]
  },
  {
   "cell_type": "code",
   "execution_count": 66,
   "id": "21540e7a",
   "metadata": {},
   "outputs": [],
   "source": [
    "from sklearn.model_selection import train_test_split\n",
    "X_train, X_test, y_train, y_test = train_test_split(X, y, test_size=0.30, random_state=42, stratify = y)   "
   ]
  },
  {
   "cell_type": "markdown",
   "id": "d856d62d",
   "metadata": {},
   "source": [
    "# Encoding"
   ]
  },
  {
   "cell_type": "code",
   "execution_count": 67,
   "id": "7c070cab",
   "metadata": {},
   "outputs": [],
   "source": [
    "#job one hot encoding\n",
    "from sklearn.preprocessing import OneHotEncoder\n",
    "job_enc = OneHotEncoder(handle_unknown='ignore')\n",
    "job_enc.fit(X_train[\"job\"].values.reshape(-1,1))\n",
    "X_train_job = job_enc.transform(X_train[\"job\"].values.reshape(-1,1))\n",
    "X_test_job = job_enc.transform(X_test[\"job\"].values.reshape(-1,1))"
   ]
  },
  {
   "cell_type": "code",
   "execution_count": 68,
   "id": "a6db3f2e",
   "metadata": {},
   "outputs": [],
   "source": [
    "job_categories = list(job_enc.categories_[0])"
   ]
  },
  {
   "cell_type": "code",
   "execution_count": 69,
   "id": "d3588ade",
   "metadata": {},
   "outputs": [],
   "source": [
    "#Marital\n",
    "from sklearn.preprocessing import OrdinalEncoder\n",
    "marital_enc = OrdinalEncoder(categories=[['divorced','single','married']])\n",
    "marital_enc.fit(X_train['marital'].values.reshape(-1,1))\n",
    "X_train_marital = marital_enc.transform(X_train[\"marital\"].values.reshape(-1,1))\n",
    "X_test_marital = marital_enc.transform(X_test[\"marital\"].values.reshape(-1,1))"
   ]
  },
  {
   "cell_type": "code",
   "execution_count": 70,
   "id": "3eef6759",
   "metadata": {},
   "outputs": [
    {
     "data": {
      "text/plain": [
       "array([[0.],\n",
       "       [2.],\n",
       "       [1.],\n",
       "       ...,\n",
       "       [2.],\n",
       "       [2.],\n",
       "       [0.]])"
      ]
     },
     "execution_count": 70,
     "metadata": {},
     "output_type": "execute_result"
    }
   ],
   "source": [
    "X_train_marital"
   ]
  },
  {
   "cell_type": "code",
   "execution_count": 71,
   "id": "ee546d0e",
   "metadata": {},
   "outputs": [
    {
     "data": {
      "text/plain": [
       "[array(['divorced', 'single', 'married'], dtype=object)]"
      ]
     },
     "execution_count": 71,
     "metadata": {},
     "output_type": "execute_result"
    }
   ],
   "source": [
    "marital_enc.categories_"
   ]
  },
  {
   "cell_type": "code",
   "execution_count": 72,
   "id": "b0d7d829",
   "metadata": {},
   "outputs": [],
   "source": [
    "#education_qual\n",
    "from sklearn.preprocessing import OrdinalEncoder\n",
    "education_qual_enc = OrdinalEncoder(categories=[[\"primary\", \"tertiary\", \"secondary\"]])\n",
    "education_qual_enc.fit(X_train['education_qual'].values.reshape(-1,1))\n",
    "X_train_education_qual = education_qual_enc.transform(X_train[\"education_qual\"].values.reshape(-1,1))\n",
    "X_test_education_qual = education_qual_enc.transform(X_test[\"education_qual\"].values.reshape(-1,1))"
   ]
  },
  {
   "cell_type": "code",
   "execution_count": 73,
   "id": "d3657efe",
   "metadata": {},
   "outputs": [],
   "source": [
    "education_qual_categories = list(education_qual_enc.categories_[0])"
   ]
  },
  {
   "cell_type": "code",
   "execution_count": 74,
   "id": "094a83e2",
   "metadata": {},
   "outputs": [],
   "source": [
    "#call_type one hot encoding\n",
    "from sklearn.preprocessing import OneHotEncoder\n",
    "call_type_enc = OneHotEncoder(handle_unknown='ignore')\n",
    "call_type_enc.fit(X_train[\"call_type\"].values.reshape(-1,1))\n",
    "X_train_call_type = call_type_enc.transform(X_train[\"call_type\"].values.reshape(-1,1))\n",
    "X_test_call_type = call_type_enc.transform(X_test[\"call_type\"].values.reshape(-1,1))"
   ]
  },
  {
   "cell_type": "code",
   "execution_count": 75,
   "id": "c34d4fb1",
   "metadata": {},
   "outputs": [],
   "source": [
    "call_type_categories = list(call_type_enc.categories_[0])"
   ]
  },
  {
   "cell_type": "code",
   "execution_count": 76,
   "id": "4bc7ed57",
   "metadata": {},
   "outputs": [
    {
     "data": {
      "text/plain": [
       "['cellular', 'telephone', 'unknown']"
      ]
     },
     "execution_count": 76,
     "metadata": {},
     "output_type": "execute_result"
    }
   ],
   "source": [
    "call_type_categories"
   ]
  },
  {
   "cell_type": "code",
   "execution_count": 77,
   "id": "3909a67a",
   "metadata": {},
   "outputs": [],
   "source": [
    "#day one hot encoding\n",
    "from sklearn.preprocessing import OneHotEncoder\n",
    "day_enc = OneHotEncoder(handle_unknown='ignore')\n",
    "day_enc.fit(X_train[\"day\"].values.reshape(-1,1))\n",
    "X_train_day = day_enc.transform(X_train[\"day\"].values.reshape(-1,1))\n",
    "X_test_day = day_enc.transform(X_test[\"day\"].values.reshape(-1,1))"
   ]
  },
  {
   "cell_type": "code",
   "execution_count": 78,
   "id": "aaff81a7",
   "metadata": {},
   "outputs": [],
   "source": [
    "day_categories = list(day_enc.categories_[0])"
   ]
  },
  {
   "cell_type": "code",
   "execution_count": 79,
   "id": "9cdfdda8",
   "metadata": {
    "scrolled": true
   },
   "outputs": [
    {
     "data": {
      "text/plain": [
       "[1,\n",
       " 2,\n",
       " 3,\n",
       " 4,\n",
       " 5,\n",
       " 6,\n",
       " 7,\n",
       " 8,\n",
       " 9,\n",
       " 10,\n",
       " 11,\n",
       " 12,\n",
       " 13,\n",
       " 14,\n",
       " 15,\n",
       " 16,\n",
       " 17,\n",
       " 18,\n",
       " 19,\n",
       " 20,\n",
       " 21,\n",
       " 22,\n",
       " 23,\n",
       " 24,\n",
       " 25,\n",
       " 26,\n",
       " 27,\n",
       " 28,\n",
       " 29,\n",
       " 30,\n",
       " 31]"
      ]
     },
     "execution_count": 79,
     "metadata": {},
     "output_type": "execute_result"
    }
   ],
   "source": [
    "day_categories"
   ]
  },
  {
   "cell_type": "code",
   "execution_count": 80,
   "id": "951e6ce7",
   "metadata": {},
   "outputs": [],
   "source": [
    "#mon one hot encoding\n",
    "from sklearn.preprocessing import OneHotEncoder\n",
    "mon_enc = OneHotEncoder(handle_unknown='ignore')\n",
    "mon_enc.fit(X_train[\"mon\"].values.reshape(-1,1))\n",
    "X_train_mon = mon_enc.transform(X_train[\"mon\"].values.reshape(-1,1))\n",
    "X_test_mon = mon_enc.transform(X_test[\"mon\"].values.reshape(-1,1))"
   ]
  },
  {
   "cell_type": "code",
   "execution_count": 81,
   "id": "e04784f7",
   "metadata": {},
   "outputs": [],
   "source": [
    "mon_categories = list(mon_enc.categories_[0])"
   ]
  },
  {
   "cell_type": "code",
   "execution_count": 82,
   "id": "636c7ee4",
   "metadata": {
    "scrolled": false
   },
   "outputs": [
    {
     "data": {
      "text/plain": [
       "['apr',\n",
       " 'aug',\n",
       " 'dec',\n",
       " 'feb',\n",
       " 'jan',\n",
       " 'jul',\n",
       " 'jun',\n",
       " 'mar',\n",
       " 'may',\n",
       " 'nov',\n",
       " 'oct',\n",
       " 'sep']"
      ]
     },
     "execution_count": 82,
     "metadata": {},
     "output_type": "execute_result"
    }
   ],
   "source": [
    "mon_categories"
   ]
  },
  {
   "cell_type": "code",
   "execution_count": 83,
   "id": "bc39cdd5",
   "metadata": {},
   "outputs": [],
   "source": [
    "#dur\n",
    "from sklearn.preprocessing import PowerTransformer\n",
    "dur_enc = PowerTransformer(method='box-cox', standardize=True)\n",
    "dur_enc.fit(X_train['dur'].values.reshape(-1,1))\n",
    "X_train_dur = dur_enc.transform(X_train[\"dur\"].values.reshape(-1,1))\n",
    "X_test_dur = dur_enc.transform(X_test[\"dur\"].values.reshape(-1,1))\n"
   ]
  },
  {
   "cell_type": "code",
   "execution_count": null,
   "id": "e8c1739e",
   "metadata": {},
   "outputs": [],
   "source": []
  },
  {
   "cell_type": "code",
   "execution_count": 84,
   "id": "853e3240",
   "metadata": {},
   "outputs": [],
   "source": [
    "#prev_outcome one hot encoding\n",
    "from sklearn.preprocessing import OneHotEncoder\n",
    "prev_outcome_enc = OneHotEncoder(handle_unknown='ignore')\n",
    "prev_outcome_enc.fit(X_train[\"prev_outcome\"].values.reshape(-1,1))\n",
    "X_train_prev_outcome = prev_outcome_enc.transform(X_train[\"prev_outcome\"].values.reshape(-1,1))\n",
    "X_test_prev_outcome = prev_outcome_enc.transform(X_test[\"prev_outcome\"].values.reshape(-1,1))"
   ]
  },
  {
   "cell_type": "code",
   "execution_count": 85,
   "id": "951a87b2",
   "metadata": {},
   "outputs": [],
   "source": [
    "prev_outcome_categories = list(prev_outcome_enc.categories_[0])"
   ]
  },
  {
   "cell_type": "code",
   "execution_count": 86,
   "id": "f3afb886",
   "metadata": {},
   "outputs": [
    {
     "data": {
      "text/plain": [
       "['failure', 'other', 'success', 'unknown']"
      ]
     },
     "execution_count": 86,
     "metadata": {},
     "output_type": "execute_result"
    }
   ],
   "source": [
    "prev_outcome_categories"
   ]
  },
  {
   "cell_type": "code",
   "execution_count": 87,
   "id": "7a5c9e16",
   "metadata": {},
   "outputs": [
    {
     "data": {
      "text/plain": [
       "<31635x1 sparse matrix of type '<class 'numpy.float64'>'\n",
       "\twith 28035 stored elements in COOrdinate format>"
      ]
     },
     "execution_count": 87,
     "metadata": {},
     "output_type": "execute_result"
    }
   ],
   "source": [
    "from scipy.sparse import coo_matrix, hstack\n",
    "coo_matrix(X_train_marital)"
   ]
  },
  {
   "cell_type": "code",
   "execution_count": 88,
   "id": "07e5ed4c",
   "metadata": {},
   "outputs": [],
   "source": [
    "from scipy.sparse import coo_matrix, hstack\n",
    "X_train_final = hstack([X_train_job, X_train_call_type, X_train_day, X_train_mon, X_train_prev_outcome,\n",
    "                       coo_matrix(X_train_marital), coo_matrix(X_train_education_qual), coo_matrix(X_train_dur),\n",
    "                       coo_matrix(X_train['age'].values.reshape(-1,1)), coo_matrix(X_train['num_calls'].values.reshape(-1,1))])"
   ]
  },
  {
   "cell_type": "code",
   "execution_count": 89,
   "id": "cbe46e30",
   "metadata": {},
   "outputs": [
    {
     "data": {
      "text/plain": [
       "<31635x66 sparse matrix of type '<class 'numpy.float64'>'\n",
       "\twith 307966 stored elements in COOrdinate format>"
      ]
     },
     "execution_count": 89,
     "metadata": {},
     "output_type": "execute_result"
    }
   ],
   "source": [
    "X_train_final"
   ]
  },
  {
   "cell_type": "code",
   "execution_count": 90,
   "id": "a42d0e15",
   "metadata": {},
   "outputs": [],
   "source": [
    "import itertools\n",
    "non_one_hot_columns = [\"marital\", \"education_qual\", \"dur\", \"age\", \"num_calls\"]\n",
    "input_dims = list(itertools.chain(job_categories, call_type_categories, day_categories, \n",
    "                                  mon_categories, prev_outcome_categories, non_one_hot_columns))"
   ]
  },
  {
   "cell_type": "code",
   "execution_count": 91,
   "id": "b45c2773",
   "metadata": {},
   "outputs": [
    {
     "data": {
      "text/plain": [
       "66"
      ]
     },
     "execution_count": 91,
     "metadata": {},
     "output_type": "execute_result"
    }
   ],
   "source": [
    "len(input_dims)"
   ]
  },
  {
   "cell_type": "code",
   "execution_count": 92,
   "id": "8d8e57a6",
   "metadata": {},
   "outputs": [],
   "source": [
    "from scipy.sparse import coo_matrix, hstack\n",
    "X_test_final = hstack([X_test_job, X_test_call_type, X_test_day, X_test_mon, X_test_prev_outcome,\n",
    "                       coo_matrix(X_test_marital), coo_matrix(X_test_education_qual), coo_matrix(X_test_dur),\n",
    "                       coo_matrix(X_test['age'].values.reshape(-1,1)), \n",
    "                       coo_matrix(X_test['num_calls'].values.reshape(-1,1))])"
   ]
  },
  {
   "cell_type": "code",
   "execution_count": 93,
   "id": "c8c38a0d",
   "metadata": {},
   "outputs": [
    {
     "data": {
      "text/plain": [
       "<13559x66 sparse matrix of type '<class 'numpy.float64'>'\n",
       "\twith 131920 stored elements in COOrdinate format>"
      ]
     },
     "execution_count": 93,
     "metadata": {},
     "output_type": "execute_result"
    }
   ],
   "source": [
    "X_test_final"
   ]
  },
  {
   "cell_type": "code",
   "execution_count": 94,
   "id": "681d1a19",
   "metadata": {},
   "outputs": [],
   "source": [
    "#encoding target\n",
    "from sklearn import preprocessing\n",
    "le = preprocessing.LabelEncoder()\n",
    "le.fit(y_train)\n",
    "y_train_enc = le.transform(y_train)\n",
    "y_test_enc = le.transform(y_test)"
   ]
  },
  {
   "cell_type": "code",
   "execution_count": 95,
   "id": "283b313b",
   "metadata": {},
   "outputs": [],
   "source": [
    "from sklearn.linear_model import LogisticRegression\n",
    "from sklearn.model_selection import RepeatedStratifiedKFold\n",
    "from sklearn.model_selection import GridSearchCV"
   ]
  },
  {
   "cell_type": "markdown",
   "id": "7526f350",
   "metadata": {},
   "source": [
    "## Logistic Regression"
   ]
  },
  {
   "cell_type": "code",
   "execution_count": 96,
   "id": "d447194b",
   "metadata": {},
   "outputs": [],
   "source": [
    "# define model\n",
    "model = LogisticRegression()\n",
    "# define evaluation\n",
    "cv = RepeatedStratifiedKFold(n_splits=10, n_repeats=3, random_state=1)\n",
    "# define search space\n",
    "space = dict()\n",
    "space['solver'] = ['newton-cg', 'lbfgs', 'liblinear']\n",
    "space['penalty'] = ['l1', 'l2', 'elasticnet']\n",
    "space['C'] = [1e-5, 1e-4, 1e-3, 1e-2, 1e-1, 1, 10, 100]\n",
    "# define search\n",
    "search = GridSearchCV(model, space, scoring='f1_weighted', n_jobs=-1, cv=cv)"
   ]
  },
  {
   "cell_type": "code",
   "execution_count": 97,
   "id": "af4e73a6",
   "metadata": {
    "scrolled": false
   },
   "outputs": [
    {
     "name": "stderr",
     "output_type": "stream",
     "text": [
      "C:\\Users\\anike\\.conda\\envs\\tf_test\\lib\\site-packages\\sklearn\\model_selection\\_search.py:925: UserWarning: One or more of the test scores are non-finite: [       nan        nan 0.82810291 0.82810291 0.82810291 0.82810291\n",
      "        nan        nan        nan        nan        nan 0.82810291\n",
      " 0.82810291 0.82810291 0.82810291        nan        nan        nan\n",
      "        nan        nan 0.84035646 0.84251905 0.84251264 0.84631338\n",
      "        nan        nan        nan        nan        nan 0.88029242\n",
      " 0.88224445 0.88192156 0.88210391        nan        nan        nan\n",
      "        nan        nan 0.88983049 0.89054167 0.89056363 0.89052222\n",
      "        nan        nan        nan        nan        nan 0.89187651\n",
      " 0.89189555 0.89154965 0.89187657        nan        nan        nan\n",
      "        nan        nan 0.89204261 0.89208334 0.89165857 0.89211097\n",
      "        nan        nan        nan        nan        nan 0.89208179\n",
      " 0.89208202 0.89195569 0.89208301        nan        nan        nan]\n",
      "  category=UserWarning\n"
     ]
    }
   ],
   "source": [
    "# execute search\n",
    "result = search.fit(X_train_final, y_train_enc)"
   ]
  },
  {
   "cell_type": "code",
   "execution_count": 98,
   "id": "e3cd9acc",
   "metadata": {},
   "outputs": [
    {
     "name": "stdout",
     "output_type": "stream",
     "text": [
      "Best f1-Score: 0.8921109700000213\n",
      "Best Hyperparameters: {'C': 10, 'penalty': 'l2', 'solver': 'liblinear'}\n"
     ]
    }
   ],
   "source": [
    "# summarize result\n",
    "print('Best f1-Score: %s' % result.best_score_)\n",
    "print('Best Hyperparameters: %s' % result.best_params_)"
   ]
  },
  {
   "cell_type": "code",
   "execution_count": 99,
   "id": "5543d332",
   "metadata": {},
   "outputs": [
    {
     "data": {
      "text/plain": [
       "LogisticRegression(C=10, solver='liblinear')"
      ]
     },
     "execution_count": 99,
     "metadata": {},
     "output_type": "execute_result"
    }
   ],
   "source": [
    "result.best_estimator_"
   ]
  },
  {
   "cell_type": "code",
   "execution_count": 100,
   "id": "ba2cb94c",
   "metadata": {},
   "outputs": [
    {
     "data": {
      "text/plain": [
       "LogisticRegression(C=10, solver='liblinear')"
      ]
     },
     "execution_count": 100,
     "metadata": {},
     "output_type": "execute_result"
    }
   ],
   "source": [
    "model = result.best_estimator_\n",
    "model.fit(X_train_final, y_train_enc)"
   ]
  },
  {
   "cell_type": "code",
   "execution_count": 101,
   "id": "4849907b",
   "metadata": {},
   "outputs": [
    {
     "data": {
      "text/plain": [
       "<31635x66 sparse matrix of type '<class 'numpy.float64'>'\n",
       "\twith 307966 stored elements in COOrdinate format>"
      ]
     },
     "execution_count": 101,
     "metadata": {},
     "output_type": "execute_result"
    }
   ],
   "source": [
    "X_train_final"
   ]
  },
  {
   "cell_type": "code",
   "execution_count": 102,
   "id": "06a2e272",
   "metadata": {},
   "outputs": [
    {
     "data": {
      "text/plain": [
       "<13559x66 sparse matrix of type '<class 'numpy.float64'>'\n",
       "\twith 131920 stored elements in COOrdinate format>"
      ]
     },
     "execution_count": 102,
     "metadata": {},
     "output_type": "execute_result"
    }
   ],
   "source": [
    "X_test_final"
   ]
  },
  {
   "cell_type": "code",
   "execution_count": 103,
   "id": "bff1cfe1",
   "metadata": {},
   "outputs": [],
   "source": [
    "train_prediction = model.predict(X_train_final)\n",
    "test_prediction = model.predict(X_test_final)"
   ]
  },
  {
   "cell_type": "code",
   "execution_count": 104,
   "id": "4f8d0d2f",
   "metadata": {},
   "outputs": [
    {
     "data": {
      "text/plain": [
       "array([0, 0, 0, ..., 1, 1, 1])"
      ]
     },
     "execution_count": 104,
     "metadata": {},
     "output_type": "execute_result"
    }
   ],
   "source": [
    "train_prediction"
   ]
  },
  {
   "cell_type": "code",
   "execution_count": 105,
   "id": "9335f584",
   "metadata": {},
   "outputs": [
    {
     "data": {
      "text/plain": [
       "array([0, 0, 0, ..., 0, 0, 0])"
      ]
     },
     "execution_count": 105,
     "metadata": {},
     "output_type": "execute_result"
    }
   ],
   "source": [
    "test_prediction"
   ]
  },
  {
   "cell_type": "code",
   "execution_count": 106,
   "id": "de109c17",
   "metadata": {},
   "outputs": [
    {
     "name": "stdout",
     "output_type": "stream",
     "text": [
      "              precision    recall  f1-score   support\n",
      "\n",
      "           0       0.92      0.97      0.95     27933\n",
      "           1       0.67      0.38      0.48      3702\n",
      "\n",
      "    accuracy                           0.91     31635\n",
      "   macro avg       0.79      0.68      0.72     31635\n",
      "weighted avg       0.89      0.91      0.89     31635\n",
      "\n"
     ]
    }
   ],
   "source": [
    "from sklearn.metrics import classification_report\n",
    "print(classification_report(y_train_enc, train_prediction))"
   ]
  },
  {
   "cell_type": "code",
   "execution_count": 107,
   "id": "174764f8",
   "metadata": {},
   "outputs": [
    {
     "name": "stdout",
     "output_type": "stream",
     "text": [
      "              precision    recall  f1-score   support\n",
      "\n",
      "           0       0.92      0.97      0.95     11972\n",
      "           1       0.63      0.35      0.45      1587\n",
      "\n",
      "    accuracy                           0.90     13559\n",
      "   macro avg       0.78      0.66      0.70     13559\n",
      "weighted avg       0.89      0.90      0.89     13559\n",
      "\n"
     ]
    }
   ],
   "source": [
    "print(classification_report(y_test_enc, test_prediction))"
   ]
  },
  {
   "cell_type": "markdown",
   "id": "c5566db1",
   "metadata": {},
   "source": [
    "**Performance on class 1 is bad. We will try to upsample it by SMOTE**"
   ]
  },
  {
   "cell_type": "markdown",
   "id": "209a07c3",
   "metadata": {},
   "source": [
    "**Checking Feature Importance**"
   ]
  },
  {
   "cell_type": "code",
   "execution_count": 108,
   "id": "d0e30759",
   "metadata": {},
   "outputs": [],
   "source": [
    "importance = model.coef_[0]"
   ]
  },
  {
   "cell_type": "code",
   "execution_count": 109,
   "id": "d1b81f12",
   "metadata": {},
   "outputs": [
    {
     "data": {
      "image/png": "[encoded data removed]",
      "text/plain": [
       "<Figure size 1800x576 with 1 Axes>"
      ]
     },
     "metadata": {
      "needs_background": "light"
     },
     "output_type": "display_data"
    }
   ],
   "source": [
    "fig, ax = plt.subplots(figsize = (25,8))\n",
    "sns.barplot(x = input_dims, y = importance, ax = ax)\n",
    "plt.xticks(rotation=75)\n",
    "plt.show()"
   ]
  },
  {
   "cell_type": "markdown",
   "id": "aca67e3e",
   "metadata": {},
   "source": [
    "# Oversampling minority class"
   ]
  },
  {
   "cell_type": "code",
   "execution_count": 110,
   "id": "b1f4738d",
   "metadata": {},
   "outputs": [],
   "source": [
    "from imblearn.over_sampling import SMOTE"
   ]
  },
  {
   "cell_type": "code",
   "execution_count": 111,
   "id": "a0779fb4",
   "metadata": {},
   "outputs": [
    {
     "data": {
      "text/plain": [
       "<31635x66 sparse matrix of type '<class 'numpy.float64'>'\n",
       "\twith 307966 stored elements in COOrdinate format>"
      ]
     },
     "execution_count": 111,
     "metadata": {},
     "output_type": "execute_result"
    }
   ],
   "source": [
    "X_train_final"
   ]
  },
  {
   "cell_type": "code",
   "execution_count": 112,
   "id": "9947c327",
   "metadata": {},
   "outputs": [],
   "source": [
    "oversample = SMOTE()\n",
    "X_train_final_sm, y_train_enc_sm = oversample.fit_resample(X_train_final, y_train_enc)"
   ]
  },
  {
   "cell_type": "code",
   "execution_count": 113,
   "id": "830a7d1e",
   "metadata": {},
   "outputs": [],
   "source": [
    "# define model\n",
    "model = LogisticRegression()\n",
    "# define evaluation\n",
    "cv = RepeatedStratifiedKFold(n_splits=10, n_repeats=3, random_state=1)\n",
    "# define search space\n",
    "space = dict()\n",
    "space['solver'] = ['newton-cg', 'lbfgs', 'liblinear']\n",
    "space['penalty'] = ['l1', 'l2', 'elasticnet']\n",
    "space['C'] = [1e-5, 1e-4, 1e-3, 1e-2, 1e-1, 1, 10, 100]\n",
    "# define search\n",
    "search = GridSearchCV(model, space, scoring='f1_weighted', n_jobs=-1, cv=cv)"
   ]
  },
  {
   "cell_type": "code",
   "execution_count": 114,
   "id": "48eb487e",
   "metadata": {},
   "outputs": [
    {
     "name": "stderr",
     "output_type": "stream",
     "text": [
      "C:\\Users\\anike\\.conda\\envs\\tf_test\\lib\\site-packages\\sklearn\\model_selection\\_search.py:925: UserWarning: One or more of the test scores are non-finite: [       nan        nan 0.33333334 0.74671773 0.74672421 0.75817197\n",
      "        nan        nan        nan        nan        nan 0.72703016\n",
      " 0.80346046 0.80346015 0.80339827        nan        nan        nan\n",
      "        nan        nan 0.79970162 0.82763913 0.82762132 0.82779324\n",
      "        nan        nan        nan        nan        nan 0.83905323\n",
      " 0.84377492 0.84375737 0.8437812         nan        nan        nan\n",
      "        nan        nan 0.84734579 0.84697489 0.84686117 0.84695098\n",
      "        nan        nan        nan        nan        nan 0.84767073\n",
      " 0.84757519 0.84760491 0.84758719        nan        nan        nan\n",
      "        nan        nan 0.84764117 0.84762932 0.84731237 0.84763526\n",
      "        nan        nan        nan        nan        nan 0.84764128\n",
      " 0.84763528 0.84733099 0.84763528        nan        nan        nan]\n",
      "  category=UserWarning\n"
     ]
    }
   ],
   "source": [
    "# execute search\n",
    "result = search.fit(X_train_final_sm, y_train_enc_sm)"
   ]
  },
  {
   "cell_type": "code",
   "execution_count": 115,
   "id": "7e2d9f47",
   "metadata": {},
   "outputs": [
    {
     "name": "stdout",
     "output_type": "stream",
     "text": [
      "Best f1-Score: 0.847670728204983\n",
      "Best Hyperparameters: {'C': 1, 'penalty': 'l1', 'solver': 'liblinear'}\n"
     ]
    }
   ],
   "source": [
    "# summarize result\n",
    "print('Best f1-Score: %s' % result.best_score_)\n",
    "print('Best Hyperparameters: %s' % result.best_params_)"
   ]
  },
  {
   "cell_type": "code",
   "execution_count": 116,
   "id": "652bc126",
   "metadata": {},
   "outputs": [
    {
     "data": {
      "text/plain": [
       "LogisticRegression(C=1, penalty='l1', solver='liblinear')"
      ]
     },
     "execution_count": 116,
     "metadata": {},
     "output_type": "execute_result"
    }
   ],
   "source": [
    "result.best_estimator_"
   ]
  },
  {
   "cell_type": "code",
   "execution_count": 117,
   "id": "911c2909",
   "metadata": {},
   "outputs": [
    {
     "data": {
      "text/plain": [
       "LogisticRegression(C=1, penalty='l1', solver='liblinear')"
      ]
     },
     "execution_count": 117,
     "metadata": {},
     "output_type": "execute_result"
    }
   ],
   "source": [
    "model = result.best_estimator_\n",
    "model.fit(X_train_final, y_train_enc)"
   ]
  },
  {
   "cell_type": "code",
   "execution_count": 118,
   "id": "2bceb67d",
   "metadata": {},
   "outputs": [],
   "source": [
    "train_prediction = model.predict(X_train_final_sm)\n",
    "test_prediction = model.predict(X_test_final)"
   ]
  },
  {
   "cell_type": "code",
   "execution_count": 119,
   "id": "1f956bad",
   "metadata": {},
   "outputs": [
    {
     "name": "stdout",
     "output_type": "stream",
     "text": [
      "              precision    recall  f1-score   support\n",
      "\n",
      "           0       0.60      0.97      0.75     27933\n",
      "           1       0.94      0.36      0.52     27933\n",
      "\n",
      "    accuracy                           0.67     55866\n",
      "   macro avg       0.77      0.67      0.63     55866\n",
      "weighted avg       0.77      0.67      0.63     55866\n",
      "\n"
     ]
    }
   ],
   "source": [
    "from sklearn.metrics import classification_report\n",
    "print(classification_report(y_train_enc_sm, train_prediction))"
   ]
  },
  {
   "cell_type": "code",
   "execution_count": 120,
   "id": "a79e7813",
   "metadata": {},
   "outputs": [
    {
     "name": "stdout",
     "output_type": "stream",
     "text": [
      "              precision    recall  f1-score   support\n",
      "\n",
      "           0       0.92      0.97      0.94     11972\n",
      "           1       0.63      0.35      0.45      1587\n",
      "\n",
      "    accuracy                           0.90     13559\n",
      "   macro avg       0.77      0.66      0.70     13559\n",
      "weighted avg       0.88      0.90      0.89     13559\n",
      "\n"
     ]
    }
   ],
   "source": [
    "print(classification_report(y_test_enc, test_prediction))"
   ]
  },
  {
   "cell_type": "markdown",
   "id": "e33c35f1",
   "metadata": {},
   "source": [
    "**There is improvement in performance after SMOTE**"
   ]
  },
  {
   "cell_type": "markdown",
   "id": "c343aba9",
   "metadata": {},
   "source": [
    "**Checking Feature Importance**"
   ]
  },
  {
   "cell_type": "code",
   "execution_count": 121,
   "id": "79628524",
   "metadata": {},
   "outputs": [
    {
     "data": {
      "image/png": "[encoded data removed]",
      "text/plain": [
       "<Figure size 1800x576 with 1 Axes>"
      ]
     },
     "metadata": {
      "needs_background": "light"
     },
     "output_type": "display_data"
    }
   ],
   "source": [
    "importance = model.coef_[0]\n",
    "fig, ax = plt.subplots(figsize = (25,8))\n",
    "sns.barplot(x = input_dims, y = importance, ax = ax)\n",
    "plt.xticks(rotation=75)\n",
    "plt.show()"
   ]
  },
  {
   "cell_type": "code",
   "execution_count": null,
   "id": "1691cc04",
   "metadata": {},
   "outputs": [],
   "source": []
  },
  {
   "cell_type": "markdown",
   "id": "3950582c",
   "metadata": {},
   "source": [
    "## SVC"
   ]
  },
  {
   "cell_type": "code",
   "execution_count": 123,
   "id": "9a1237b9",
   "metadata": {},
   "outputs": [],
   "source": [
    "# define model\n",
    "from sklearn.svm import SVC\n",
    "model = SVC()\n",
    "# define evaluation\n",
    "cv = RepeatedStratifiedKFold(n_splits=10, n_repeats=3, random_state=1)\n",
    "# define search space\n",
    "space = dict()\n",
    "space['kernel'] = [\"linear\", \"rbf\"]\n",
    "space['gamma'] = [1e-4, 1e-3,1e-2, 1e-1, 1]\n",
    "space['C'] = [1e-1, 1, 10, 100, 1000]\n",
    "# define search\n",
    "search = GridSearchCV(model, space, scoring='f1_weighted', n_jobs=-1, cv=cv)"
   ]
  },
  {
   "cell_type": "code",
   "execution_count": null,
   "id": "67ce275a",
   "metadata": {},
   "outputs": [],
   "source": [
    "# execute search\n",
    "result = search.fit(X_train_final_sm, y_train_enc_sm)"
   ]
  },
  {
   "cell_type": "code",
   "execution_count": null,
   "id": "2a14be9d",
   "metadata": {},
   "outputs": [],
   "source": []
  }
 ],
 "metadata": {
  "kernelspec": {
   "display_name": "tf_test",
   "language": "python",
   "name": "tf_test"
  },
  "language_info": {
   "codemirror_mode": {
    "name": "ipython",
    "version": 3
   },
   "file_extension": ".py",
   "mimetype": "text/x-python",
   "name": "python",
   "nbconvert_exporter": "python",
   "pygments_lexer": "ipython3",
   "version": "3.6.13"
  }
 },
 "nbformat": 4,
 "nbformat_minor": 5
}
